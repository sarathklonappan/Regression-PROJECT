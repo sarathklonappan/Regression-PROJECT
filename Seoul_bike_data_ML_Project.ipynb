{
  "nbformat": 4,
  "nbformat_minor": 0,
  "metadata": {
    "colab": {
      "private_outputs": true,
      "provenance": [],
      "collapsed_sections": [
        "mDgbUHAGgjLW",
        "KH5McJBi2d8v",
        "iW_Lq9qf2h6X",
        "-Kee-DAl2viO",
        "gIfDvo9L0UH2"
      ],
      "include_colab_link": true
    },
    "kernelspec": {
      "name": "python3",
      "display_name": "Python 3"
    },
    "language_info": {
      "name": "python"
    }
  },
  "cells": [
    {
      "cell_type": "markdown",
      "metadata": {
        "id": "view-in-github",
        "colab_type": "text"
      },
      "source": [
        "<a href=\"https://colab.research.google.com/github/sarathklonappan/Regression-PROJECT/blob/main/Seoul_bike_data_ML_Project.ipynb\" target=\"_parent\"><img src=\"https://colab.research.google.com/assets/colab-badge.svg\" alt=\"Open In Colab\"/></a>"
      ]
    },
    {
      "cell_type": "markdown",
      "source": [
        "# **Project Name**    - \n",
        "\n"
      ],
      "metadata": {
        "id": "vncDsAP0Gaoa"
      }
    },
    {
      "cell_type": "markdown",
      "source": [
        "##### **Project Type**    - Regression\n",
        "##### **Contribution**    - Team\n",
        "##### **Team Member 1 -Sarath Lonappan\n",
        "##### **Team Member 2 -Akash Raj\n"
      ],
      "metadata": {
        "id": "beRrZCGUAJYm"
      }
    },
    {
      "cell_type": "markdown",
      "source": [
        "# **Project Summary -**"
      ],
      "metadata": {
        "id": "FJNUwmbgGyua"
      }
    },
    {
      "cell_type": "markdown",
      "source": [
        "The aim of the project is to find the number of bikes required for adequate transportation for people in cities.We have studied the variables and sectioned the categorical variables into major parts for easiness of visualising.\n",
        "\n",
        "We have converted temperature column into warm, cold, severe cold\n",
        "\n",
        "Converted visibility column into good, medium, low\n",
        "\n",
        "Converted solar radiation column into normal, high, and very high.\n",
        "\n",
        "Converted the Holiday column into a boolean. \n",
        "\n",
        "Then we have plotted several graphs to draw the following conclusions\n",
        "Very low bike sharing demand during the year 2017 as compared to the year 2018.\n",
        "\n",
        "Among all the seasons maximum bike sharing demand is observed during the summer season and minimum in the winter season which might be due to severe weather conditions.\n",
        "\n",
        "Among all the months more bike sharing demand is observed during June, July, and August and lowest during January,February.\n",
        "\n",
        "More bike-sharing demand is observed during the 13th day of the month while on other days it is quite uniformly distributed\n",
        "\n",
        "During day time more demand is observed at 8:00 AM which keeps on increasing after 9 AM and is maximum at 6 PM.\n",
        "\n",
        "Relatively lesser demand is observed at 8 AM during holidays as compared to non holidays this might be due to a decrease in daily commuters for office work and more demand is observed during 5 PM which might be due to people going out for leisure or shopping purposes.\n",
        "\n",
        "Not much difference in average bike-sharing demand is observed during weekdays and weekends. So it seems less demand during day time is compensated by more demand during evening and night time.\n",
        "\n",
        "Rainfall and snowfall days lead to a decrease in bike-sharing demand.\n",
        "\n",
        "Bike sharing demand is lowest during severely cold days when the temperature drops below 4 degrees Celsius.\n",
        "\n",
        "Lower the dew point temperature and lower the bike sharing demand(severe winter). While the higher the dew point temperature higher is the possibility of rainfall. So in both, the scenario bike demand is less.\n",
        "\n",
        "As Solar Radiation increases demand for bike sharing increases.\n",
        "\n",
        "The null hypothetical statements were rejected comparing the p value.\n",
        "We have created 4 models Linear,Lasso,Ridge and elasticnet regression.The r2 squard value got from 4 regression had almost same values.Cross validation was done in lasso,elasticnet,ridge regressions.\n",
        "\n"
      ],
      "metadata": {
        "id": "F6v_1wHtG2nS"
      }
    },
    {
      "cell_type": "markdown",
      "source": [
        "# **GitHub Link -**"
      ],
      "metadata": {
        "id": "w6K7xa23Elo4"
      }
    },
    {
      "cell_type": "markdown",
      "source": [
        "Provide your GitHub Link here."
      ],
      "metadata": {
        "id": "h1o69JH3Eqqn"
      }
    },
    {
      "cell_type": "markdown",
      "source": [
        "# **Problem Statement**\n"
      ],
      "metadata": {
        "id": "yQaldy8SH6Dl"
      }
    },
    {
      "cell_type": "markdown",
      "source": [
        "Currently rental bikes are introduced in many urban cities for the enhancement of mobility comfort.It is important to make the rental bike available and accessible to the public at the right time as it lessens the waiting time.Eventually, providing the city with a stable supply of rental bikes becomes a mojor concern.The crucial part is the prediction of bike count required at each hour for the stable supply of rental bikes."
      ],
      "metadata": {
        "id": "DpeJGUA3kjGy"
      }
    },
    {
      "cell_type": "markdown",
      "source": [
        "# **General Guidelines** : -  "
      ],
      "metadata": {
        "id": "mDgbUHAGgjLW"
      }
    },
    {
      "cell_type": "markdown",
      "source": [
        "1.   Well-structured, formatted, and commented code is required. \n",
        "2.   Exception Handling, Production Grade Code & Deployment Ready Code will be a plus. Those students will be awarded some additional credits. \n",
        "     \n",
        "     The additional credits will have advantages over other students during Star Student selection.\n",
        "       \n",
        "             [ Note: - Deployment Ready Code is defined as, the whole .ipynb notebook should be executable in one go\n",
        "                       without a single error logged. ]\n",
        "\n",
        "3.   Each and every logic should have proper comments.\n",
        "4. You may add as many number of charts you want. Make Sure for each and every chart the following format should be answered.\n",
        "        \n",
        "\n",
        "```\n",
        "# Chart visualization code\n",
        "```\n",
        "            \n",
        "\n",
        "*   Why did you pick the specific chart?\n",
        "*   What is/are the insight(s) found from the chart?\n",
        "* Will the gained insights help creating a positive business impact? \n",
        "Are there any insights that lead to negative growth? Justify with specific reason.\n",
        "\n",
        "5. You have to create at least 15 logical & meaningful charts having important insights.\n",
        "\n",
        "\n",
        "[ Hints : - Do the Vizualization in  a structured way while following \"UBM\" Rule. \n",
        "\n",
        "U - Univariate Analysis,\n",
        "\n",
        "B - Bivariate Analysis (Numerical - Categorical, Numerical - Numerical, Categorical - Categorical)\n",
        "\n",
        "M - Multivariate Analysis\n",
        " ]\n",
        "\n",
        "\n",
        "\n",
        "\n",
        "\n",
        "6. You may add more ml algorithms for model creation. Make sure for each and every algorithm, the following format should be answered.\n",
        "\n",
        "\n",
        "*   Explain the ML Model used and it's performance using Evaluation metric Score Chart.\n",
        "\n",
        "\n",
        "*   Cross- Validation & Hyperparameter Tuning\n",
        "\n",
        "*   Have you seen any improvement? Note down the improvement with updates Evaluation metric Score Chart.\n",
        "\n",
        "*   Explain each evaluation metric's indication towards business and the business impact pf the ML model used.\n",
        "\n",
        "\n",
        "\n",
        "\n",
        "\n",
        "\n",
        "\n",
        "\n",
        "\n",
        "\n",
        "\n",
        "\n",
        "\n",
        "\n",
        "\n",
        "\n",
        "\n",
        "\n"
      ],
      "metadata": {
        "id": "ZrxVaUj-hHfC"
      }
    },
    {
      "cell_type": "markdown",
      "source": [
        "# ***Let's Begin !***"
      ],
      "metadata": {
        "id": "O_i_v8NEhb9l"
      }
    },
    {
      "cell_type": "markdown",
      "source": [
        "## ***1. Know Your Data***"
      ],
      "metadata": {
        "id": "HhfV-JJviCcP"
      }
    },
    {
      "cell_type": "markdown",
      "source": [
        "### Import Libraries"
      ],
      "metadata": {
        "id": "Y3lxredqlCYt"
      }
    },
    {
      "cell_type": "code",
      "source": [
        "# Import Libraries\n",
        "import numpy as np\n",
        "import pandas as pd\n",
        "from numpy import math\n",
        "\n",
        "from sklearn.preprocessing import MinMaxScaler\n",
        "from sklearn.model_selection import train_test_split\n",
        "from sklearn.linear_model import LinearRegression\n",
        "from sklearn.metrics import r2_score\n",
        "from sklearn.metrics import mean_squared_error\n",
        "import scipy.stats as stats\n",
        "import seaborn as sns\n",
        "import matplotlib.pyplot as plt\n",
        "import warnings\n",
        "from datetime import datetime\n",
        "warnings.filterwarnings('ignore')\n"
      ],
      "metadata": {
        "id": "M8Vqi-pPk-HR"
      },
      "execution_count": null,
      "outputs": []
    },
    {
      "cell_type": "code",
      "source": [
        "from google.colab import drive\n",
        "drive.mount('/content/drive')"
      ],
      "metadata": {
        "id": "jcP9l-sTBirC"
      },
      "execution_count": null,
      "outputs": []
    },
    {
      "cell_type": "markdown",
      "source": [
        "### Dataset Loading"
      ],
      "metadata": {
        "id": "3RnN4peoiCZX"
      }
    },
    {
      "cell_type": "code",
      "source": [
        "# Load Dataset\n",
        "file_path='/content/drive/MyDrive/M4/Regression project/SeoulBikeData.csv'\n",
        "df=pd.read_csv(file_path,encoding='latin1')"
      ],
      "metadata": {
        "id": "4CkvbW_SlZ_R"
      },
      "execution_count": null,
      "outputs": []
    },
    {
      "cell_type": "markdown",
      "source": [
        "### Dataset First View"
      ],
      "metadata": {
        "id": "x71ZqKXriCWQ"
      }
    },
    {
      "cell_type": "code",
      "source": [
        "# Dataset First Look\n",
        "df.head()"
      ],
      "metadata": {
        "id": "LWNFOSvLl09H"
      },
      "execution_count": null,
      "outputs": []
    },
    {
      "cell_type": "markdown",
      "source": [
        "### Dataset Rows & Columns count"
      ],
      "metadata": {
        "id": "7hBIi_osiCS2"
      }
    },
    {
      "cell_type": "code",
      "source": [
        "# Dataset Rows & Columns count\n",
        "df.shape"
      ],
      "metadata": {
        "id": "Kllu7SJgmLij"
      },
      "execution_count": null,
      "outputs": []
    },
    {
      "cell_type": "markdown",
      "source": [
        "### Dataset Information"
      ],
      "metadata": {
        "id": "JlHwYmJAmNHm"
      }
    },
    {
      "cell_type": "code",
      "source": [
        "# Dataset Info\n",
        "df.info()"
      ],
      "metadata": {
        "id": "e9hRXRi6meOf"
      },
      "execution_count": null,
      "outputs": []
    },
    {
      "cell_type": "markdown",
      "source": [
        "#### Duplicate Values"
      ],
      "metadata": {
        "id": "35m5QtbWiB9F"
      }
    },
    {
      "cell_type": "code",
      "source": [
        "# Dataset Duplicate Value Count\n",
        "len(df[df.duplicated()])"
      ],
      "metadata": {
        "id": "1sLdpKYkmox0"
      },
      "execution_count": null,
      "outputs": []
    },
    {
      "cell_type": "markdown",
      "source": [
        "#### Missing Values/Null Values"
      ],
      "metadata": {
        "id": "PoPl-ycgm1ru"
      }
    },
    {
      "cell_type": "code",
      "source": [
        "# Missing Values/Null Values Count\n",
        "df.isna().sum()"
      ],
      "metadata": {
        "id": "GgHWkxvamxVg"
      },
      "execution_count": null,
      "outputs": []
    },
    {
      "cell_type": "code",
      "source": [
        "df=df[df['Functioning Day']=='Yes']"
      ],
      "metadata": {
        "id": "B7t9O6h2TrSE"
      },
      "execution_count": null,
      "outputs": []
    },
    {
      "cell_type": "code",
      "source": [
        "# Visualizing the missing values\n",
        "import missingno as msno\n",
        "msno.matrix(df)"
      ],
      "metadata": {
        "id": "3q5wnI3om9sJ"
      },
      "execution_count": null,
      "outputs": []
    },
    {
      "cell_type": "markdown",
      "source": [
        "### What did you know about your dataset?"
      ],
      "metadata": {
        "id": "H0kj-8xxnORC"
      }
    },
    {
      "cell_type": "markdown",
      "source": [
        "1. Dataset contains 8465 rows & 14 columns.\n",
        "2.Among 14 column,three column(Seasons,Holiday,Functioning Day) are categorical variable,one column contains date and rest of the column have numerical value.\n",
        "\n",
        "3. Dataset has no Null/Duplicate values.\n",
        "4. Rented Bike Count column is dependent variable while rest are independent variable.\n"
      ],
      "metadata": {
        "id": "gfoNAAC-nUe_"
      }
    },
    {
      "cell_type": "markdown",
      "source": [
        "## ***2. Understanding Your Variables***"
      ],
      "metadata": {
        "id": "nA9Y7ga8ng1Z"
      }
    },
    {
      "cell_type": "code",
      "source": [
        "# Dataset Columns\n",
        "df.columns"
      ],
      "metadata": {
        "id": "j7xfkqrt5Ag5"
      },
      "execution_count": null,
      "outputs": []
    },
    {
      "cell_type": "code",
      "source": [
        "# Dataset Describe\n",
        "df.describe(include='all')"
      ],
      "metadata": {
        "id": "DnOaZdaE5Q5t"
      },
      "execution_count": null,
      "outputs": []
    },
    {
      "cell_type": "markdown",
      "source": [
        "### Variables Description "
      ],
      "metadata": {
        "id": "PBTbrJXOngz2"
      }
    },
    {
      "cell_type": "markdown",
      "source": [
        " **1) Date** : Year-month-day( 2017-12-01 to 2018-11-30)\n",
        "\n",
        "**2) Numerical variable**\n",
        "\n",
        "* **Rented Bike count** - Count of bikes rented at each hour( min=2,mean=729,max=3556)\n",
        "\n",
        "* **Hour** - Hour of the day(0-23)\n",
        "\n",
        "* **Temperature**-Temperature in Celsius(min=-17.8,mean=12.77,max=39.4)\n",
        "* **Dew point temperature** - Celsius (min=-30.6,mean=3.94,max=27.2)\n",
        "\n",
        "* **Humidity** - %(min=58.14,mean=12.77,max=98)\n",
        "\n",
        "* **Windspeed** - m/s (min=0,mean=1.72,max=7.4)\n",
        "\n",
        "* **Visibility** - 10m (min=27,mean=1433.87,max=2000)\n",
        "\n",
        "\n",
        "\n",
        "* **Solar radiation** - MJ/m2 (min=0,mean=0.56,max=3.52)\n",
        "\n",
        "* **Rainfall** - mm (min=0,mean=0.149,max=35)\n",
        "\n",
        "* **Snowfall** - cm (min=0,mean=0.077,max=8.8)\n",
        "\n",
        "\n",
        "**3) Categorical Variables**\n",
        "\n",
        "* **Seasons** - Winter, Spring, Summer, Autumn\n",
        "\n",
        "* **Holiday** - Holiday/No holiday\n",
        "\n",
        "* **Functional Day** - Yes,No"
      ],
      "metadata": {
        "id": "aJV4KIxSnxay"
      }
    },
    {
      "cell_type": "markdown",
      "source": [
        "### Check Unique Values for each variable."
      ],
      "metadata": {
        "id": "u3PMJOP6ngxN"
      }
    },
    {
      "cell_type": "code",
      "source": [
        "# Check Unique Values for each variable.\n",
        "df['Date'].nunique()"
      ],
      "metadata": {
        "id": "zms12Yq5n-jE"
      },
      "execution_count": null,
      "outputs": []
    },
    {
      "cell_type": "code",
      "source": [
        "df['Rented Bike Count'].nunique()"
      ],
      "metadata": {
        "id": "LpS3qbFCIxTP"
      },
      "execution_count": null,
      "outputs": []
    },
    {
      "cell_type": "markdown",
      "source": [
        "## 3. ***Data Wrangling***"
      ],
      "metadata": {
        "id": "dauF4eBmngu3"
      }
    },
    {
      "cell_type": "markdown",
      "source": [
        "### Data Wrangling Code"
      ],
      "metadata": {
        "id": "bKJF3rekwFvQ"
      }
    },
    {
      "cell_type": "code",
      "source": [
        "# Write your code to make your dataset analysis ready.\n",
        "df['Date'] = pd.to_datetime(df['Date'], errors='coerce')"
      ],
      "metadata": {
        "id": "wk-9a2fpoLcV"
      },
      "execution_count": null,
      "outputs": []
    },
    {
      "cell_type": "code",
      "source": [
        "#Extracting day from date and storing it in new column 'Day'.\n",
        "df['Day'] = df['Date'].dt.day\n",
        "\n",
        "#Extracting Month from date and storing it in new column 'Month'.\n",
        "df['Month'] = df['Date'].dt.month\n",
        "\n",
        "#Extracting day name from date and storing it in new column 'Weekday'.\n",
        "df['Weekday'] = df['Date'].dt.day_name()\n",
        "\n",
        "#Dividing Weekday column values into boolean  by assigning 1 to weekdays and 0 to weekend. \n",
        "df['Weekday'] = df['Weekday'].replace(['Sunday','Saturday'],[0,0]) #Weekend\n",
        "df['Weekday'] = df['Weekday'].replace(['Monday','Tuesday','Wednesday','Thursday','Friday'],[1,1,1,1,1]) #Weekdays\n",
        "\n",
        "#Creating new dataframe for holiday\n",
        "holiday_df=df[df['Holiday']=='Holiday'] "
      ],
      "metadata": {
        "id": "5ovbtZ5ZdeFs"
      },
      "execution_count": null,
      "outputs": []
    },
    {
      "cell_type": "code",
      "source": [
        "#Function to convert integer values into boolean  \n",
        "def convert_to_bool(x):\n",
        "  if x > 0:\n",
        "    return 1\n",
        "  else:\n",
        "    return 0\n",
        "\n",
        "#Function for dividing visibility column into good,medium,low.\n",
        "def Visibility(x):\n",
        "  if x > 1200:\n",
        "    return 'good'\n",
        "  elif x > 500:\n",
        "    return 'medium'\n",
        "  else:\n",
        "    return 'low'    \n",
        "\n",
        "#Function for dividing temprature column into warm,cold,severe cold\n",
        "def Temprature(x):\n",
        "  if x >15:\n",
        "    return 'warm'\n",
        "  elif x > 4 :\n",
        "    return 'cold'\n",
        "  else:\n",
        "    return 'severe cold'\n",
        "\n",
        "#Function for dividing solar radiation column into normal,high,very high\n",
        "def solar_radiation(x):\n",
        "  if x >3:\n",
        "    return 'very high'\n",
        "  elif x > 2:\n",
        "    return 'high'\n",
        "  else:\n",
        "    return 'normal'    \n"
      ],
      "metadata": {
        "id": "jshgxGlad_v5"
      },
      "execution_count": null,
      "outputs": []
    },
    {
      "cell_type": "code",
      "source": [
        "#Converting Rainfall column into boolean to show rainday or no rainday.\n",
        "df['Rainfall_bool'] = df['Rainfall(mm)'].apply(lambda x: convert_to_bool(x))\n",
        "\n",
        "#Converting Snowfall column into boolean to show snowfallday or not.\n",
        "df['Snowfall_bool'] = df['Snowfall (cm)'].apply(lambda x: convert_to_bool(x))\n",
        "\n",
        "#Converting Visibility column into catagorial variable\n",
        "df['Visibility_cat'] = df['Visibility (10m)'].apply(lambda x: Visibility(x))\n",
        "\n",
        "#Converting temprature column into catagorial variable\n",
        "df['Temperature_cat'] = df['Temperature(°C)'].apply(lambda x: Temprature(x))\n",
        "\n",
        "#Converting solar radiation column into catagorial variable\n",
        "df['Solar Radiation_cat'] = df['Solar Radiation (MJ/m2)'].apply(lambda x: solar_radiation(x))"
      ],
      "metadata": {
        "id": "E-KHVrc6gR4u"
      },
      "execution_count": null,
      "outputs": []
    },
    {
      "cell_type": "code",
      "source": [
        "df.head()"
      ],
      "metadata": {
        "id": "_oAjaPL2gdDS"
      },
      "execution_count": null,
      "outputs": []
    },
    {
      "cell_type": "markdown",
      "source": [
        "### What all manipulations have you done and insights you found?"
      ],
      "metadata": {
        "id": "MSa1f5Uengrz"
      }
    },
    {
      "cell_type": "markdown",
      "source": [
        "Extracted day from date in weekday columns and then converted all the weekends to 0 and weekdays to 1.\n",
        "\n",
        "Created Rainfall_bool column which shows 1 value when Rainfall(mm) is greater than 1 and 0 value when it is equal to zero.\n",
        "\n",
        "Created Snowfall_bool column which shows 1 value when Snowfall(cm) is greater than 1 and 0 value when it is equal to zero.\n",
        "\n",
        "Created Visibility_cat column and divided it into categorical variable good, medium,low .\n",
        "\n",
        "Created Temperature_cat column and divided it into categorical variable warm,cold,severe cold.\n",
        "\n",
        "Created solar_radiation_cat column and divided it into categorical variable very high,high,normal."
      ],
      "metadata": {
        "id": "LbyXE7I1olp8"
      }
    },
    {
      "cell_type": "markdown",
      "source": [
        "## ***4. Data Vizualization, Storytelling & Experimenting with charts : Understand the relationships between variables***"
      ],
      "metadata": {
        "id": "GF8Ens_Soomf"
      }
    },
    {
      "cell_type": "markdown",
      "source": [
        "#### Chart - 1"
      ],
      "metadata": {
        "id": "0wOQAZs5pc--"
      }
    },
    {
      "cell_type": "code",
      "source": [
        "# Chart - 1 visualization code\n",
        "def bar_plot_column(x):\n",
        "  y=df.groupby(x)['Rented Bike Count'].mean().sort_values().reset_index()\n",
        "  fig = plt.subplots(figsize=(12, 6))\n",
        "  sns.barplot(x =x,\n",
        "            y ='Rented Bike Count',\n",
        "            data = y).set_title(x+' wise mean bike sharing Demand')\n",
        "  sns.pointplot(x= x, y= 'Rented Bike Count', data=y)\n",
        "  plt.title(x+' wise mean bike sharing Demand')\n",
        "plt.show()\n",
        "\n",
        "bar_plot_column('Seasons')"
      ],
      "metadata": {
        "id": "SQ7AjkFRhY0y"
      },
      "execution_count": null,
      "outputs": []
    },
    {
      "cell_type": "markdown",
      "source": [
        "##### 1. Why did you pick the specific chart?"
      ],
      "metadata": {
        "id": "K5QZ13OEpz2H"
      }
    },
    {
      "cell_type": "markdown",
      "source": [
        "Bar graph summarises the large set of data in simple visual form. It displays each category of data in the frequency distribution. It clarifies the trend of data better than the table. It helps in estimating the key values at a glance. As we are comparing rented bike sharing demand with different seasons  so bar chart is making it easy for visualizing data."
      ],
      "metadata": {
        "id": "XESiWehPqBRc"
      }
    },
    {
      "cell_type": "markdown",
      "source": [
        "##### 2. What is/are the insight(s) found from the chart?"
      ],
      "metadata": {
        "id": "lQ7QKXXCp7Bj"
      }
    },
    {
      "cell_type": "markdown",
      "source": [
        "* Spring (middle of March to the end of May).\n",
        "* Summer (June to August).\n",
        "* Autumn (September to November) \n",
        "* Winter (Dec to the middle of March).\n",
        "\n",
        "Winters are usually long, cold, and dry, whereas summers are short, hot, and humid. Spring and autumn are pleasant but short in duration.\n",
        "\n",
        "Among all the seasons maximum bike sharing demand is observed during the summer season and minimum in the winter season which might be due to severe weather conditions due to which people prefer to use some other mode of transportation."
      ],
      "metadata": {
        "id": "C_j1G7yiqdRP"
      }
    },
    {
      "cell_type": "markdown",
      "source": [
        "##### 3. Will the gained insights help creating a positive business impact? \n",
        "Are there any insights that lead to negative growth? Justify with specific reason."
      ],
      "metadata": {
        "id": "448CDAPjqfQr"
      }
    },
    {
      "cell_type": "markdown",
      "source": [
        "More bike inventory needs to be kept during the summer season i.e during June, July, and August month and less during the winter seaso"
      ],
      "metadata": {
        "id": "3cspy4FjqxJW"
      }
    },
    {
      "cell_type": "markdown",
      "source": [
        "#### Chart - 2"
      ],
      "metadata": {
        "id": "KSlN3yHqYklG"
      }
    },
    {
      "cell_type": "code",
      "source": [
        "# Chart - 2 visualization code\n",
        "bar_plot_column('Month')\n"
      ],
      "metadata": {
        "id": "R4YgtaqtYklH"
      },
      "execution_count": null,
      "outputs": []
    },
    {
      "cell_type": "markdown",
      "source": [
        "##### 2. What is/are the insight(s) found from the chart?"
      ],
      "metadata": {
        "id": "ijmpgYnKYklI"
      }
    },
    {
      "cell_type": "markdown",
      "source": [
        "Maximum demand is observed during month of June, and July and lowest during February."
      ],
      "metadata": {
        "id": "PSx9atu2YklI"
      }
    },
    {
      "cell_type": "markdown",
      "source": [
        "##### 3. Will the gained insights help creating a positive business impact? \n",
        "Are there any insights that lead to negative growth? Justify with specific reason."
      ],
      "metadata": {
        "id": "-JiQyfWJYklI"
      }
    },
    {
      "cell_type": "markdown",
      "source": [
        "More bike inventory needs to be kept during June, and July month to meet bike sharing demand"
      ],
      "metadata": {
        "id": "BcBbebzrYklV"
      }
    },
    {
      "cell_type": "markdown",
      "source": [
        "#### Chart - 3"
      ],
      "metadata": {
        "id": "EM7whBJCYoAo"
      }
    },
    {
      "cell_type": "code",
      "source": [
        "\n",
        "# Chart - 3 visualization code\n",
        "bar_plot_column('Day')\n",
        "\n"
      ],
      "metadata": {
        "id": "t6GMdE67YoAp"
      },
      "execution_count": null,
      "outputs": []
    },
    {
      "cell_type": "markdown",
      "source": [
        "##### 2. What is/are the insight(s) found from the chart?"
      ],
      "metadata": {
        "id": "85gYPyotYoAp"
      }
    },
    {
      "cell_type": "markdown",
      "source": [
        "Demand is quite uniformly distributed on different days. Maximum demand is observed during the 6th day of the month."
      ],
      "metadata": {
        "id": "4jstXR6OYoAp"
      }
    },
    {
      "cell_type": "markdown",
      "source": [
        "##### 3. Will the gained insights help creating a positive business impact? \n",
        "Are there any insights that lead to negative growth? Justify with specific reason."
      ],
      "metadata": {
        "id": "RoGjAbkUYoAp"
      }
    },
    {
      "cell_type": "markdown",
      "source": [
        "More inventory needs to be kept during the 7th and 13th days of every month"
      ],
      "metadata": {
        "id": "zfJ8IqMcYoAp"
      }
    },
    {
      "cell_type": "markdown",
      "source": [
        "#### Chart - 4"
      ],
      "metadata": {
        "id": "4Of9eVA-YrdM"
      }
    },
    {
      "cell_type": "code",
      "source": [
        "#Chart 4 \n",
        "bar_plot_column('Hour')"
      ],
      "metadata": {
        "id": "vB58qRHIimOm"
      },
      "execution_count": null,
      "outputs": []
    },
    {
      "cell_type": "markdown",
      "source": [
        "##### 1. Why did you pick the specific chart?"
      ],
      "metadata": {
        "id": "iky9q4vBYrdO"
      }
    },
    {
      "cell_type": "markdown",
      "source": [
        "##### 2. What is/are the insight(s) found from the chart?"
      ],
      "metadata": {
        "id": "F6T5p64dYrdO"
      }
    },
    {
      "cell_type": "markdown",
      "source": [
        "During day time maximum demand is observed at 8:00 AM which keeps on increasing after 10:00 AM and is maximum at 6 PM."
      ],
      "metadata": {
        "id": "Xx8WAJvtYrdO"
      }
    },
    {
      "cell_type": "markdown",
      "source": [
        "##### 3. Will the gained insights help creating a positive business impact? \n",
        "Are there any insights that lead to negative growth? Justify with specific reason."
      ],
      "metadata": {
        "id": "y-Ehk30pYrdP"
      }
    },
    {
      "cell_type": "markdown",
      "source": [
        "During day time maximum inventory should be kept at 8:00 AM and at 6:00 PM during evening time."
      ],
      "metadata": {
        "id": "jLNxxz7MYrdP"
      }
    },
    {
      "cell_type": "markdown",
      "source": [
        "#### Chart - 5\n",
        "\n",
        "# Impact of rainfall and snowfall on bike sharing demand."
      ],
      "metadata": {
        "id": "bamQiAODYuh1"
      }
    },
    {
      "cell_type": "code",
      "source": [
        "#Function to plot average rainfall/snowfall during different seasons\n",
        "def plot_mean(m):\n",
        "  avg=df.groupby('Seasons')[m].mean().reset_index()\n",
        "\n",
        "  import plotly.graph_objects as go\n",
        "  fig = go.Figure()\n",
        "  fig.add_trace(\n",
        "    go.Scatter(name='Trace of average ' + m +' during seasons',\n",
        "               x=avg['Seasons'],\n",
        "               y=avg[m]))\n",
        "  fig.add_trace(\n",
        "      go.Bar(name='Average '+m,\n",
        "             x=avg['Seasons'],\n",
        "             y=avg[m]))\n",
        "  fig.update_layout(width=1100,height=500,title = f'Average {m} different during seasons')\n",
        "  fig.show()\n"
      ],
      "metadata": {
        "id": "vxpH-7aAjIo_"
      },
      "execution_count": null,
      "outputs": []
    },
    {
      "cell_type": "code",
      "source": [
        "# Chart - 5 visualization code\n",
        "#Function to plot avg bike demand during diffent weather conditions\n",
        "def avg_demand(x):\n",
        "  y=df.groupby([x])['Rented Bike Count'].mean().reset_index()\n",
        "  fig = plt.subplots(figsize=(8, 6))\n",
        "  sns.barplot(x =x,\n",
        "            y ='Rented Bike Count',\n",
        "            data = y).set_title('Average Bike demand during '+x)\n",
        "  plt.show()\n",
        "avg_demand('Rainfall_bool')\n",
        "plot_mean('Rainfall(mm)')\n",
        "plt.tight_layout()"
      ],
      "metadata": {
        "id": "zHZc5MXtisti"
      },
      "execution_count": null,
      "outputs": []
    },
    {
      "cell_type": "markdown",
      "source": [
        "##### 2. What is/are the insight(s) found from the chart?"
      ],
      "metadata": {
        "id": "GwzvFGzlYuh3"
      }
    },
    {
      "cell_type": "markdown",
      "source": [
        "Rainfall days lead to a decrease in bike-sharing demand"
      ],
      "metadata": {
        "id": "uyqkiB8YYuh3"
      }
    },
    {
      "cell_type": "markdown",
      "source": [
        "##### 3. Will the gained insights help creating a positive business impact? \n",
        "Are there any insights that lead to negative growth? Justify with specific reason."
      ],
      "metadata": {
        "id": "qYpmQ266Yuh3"
      }
    },
    {
      "cell_type": "markdown",
      "source": [
        "During high rainfall prediction days, company can keep low inventory as there would be low demand during these days"
      ],
      "metadata": {
        "id": "_WtzZ_hCYuh4"
      }
    },
    {
      "cell_type": "markdown",
      "source": [
        "#### Chart - 6"
      ],
      "metadata": {
        "id": "OH-pJp9IphqM"
      }
    },
    {
      "cell_type": "code",
      "source": [
        "# Chart - 6 visualization code\n",
        "#Function to plot avg bike demand during diffent weather conditions\n",
        "def avg_demand(x):\n",
        "  y=df.groupby([x])['Rented Bike Count'].mean().reset_index()\n",
        "  fig = plt.subplots(figsize=(8, 6))\n",
        "  sns.barplot(x =x,\n",
        "            y ='Rented Bike Count',\n",
        "            data = y).set_title('Average Bike demand during '+x)\n",
        "  plt.show()\n",
        "avg_demand('Rainfall_bool')\n",
        "plot_mean('Rainfall(mm)')\n",
        "plt.tight_layout()\n",
        "\n",
        "avg_demand('Snowfall_bool')\n",
        "plot_mean('Snowfall (cm)')"
      ],
      "metadata": {
        "id": "kuRf4wtuphqN"
      },
      "execution_count": null,
      "outputs": []
    },
    {
      "cell_type": "markdown",
      "source": [
        "Low bike-sharing demand is observed during snowfall days.:\\\\\n",
        "\n",
        "Snowfall generally occurs during winter and autumn seasons and during these days bike demand is generally low so during these period company can continue with low bike inventory."
      ],
      "metadata": {
        "id": "mJXPzNQEqeUX"
      }
    },
    {
      "cell_type": "code",
      "source": [
        "\n",
        "# Chart - 7 visualization code\n",
        "\n",
        "#Calculating bike demand based on visibility\n",
        "import plotly.express as x\n",
        "a=df['Temperature_cat'].value_counts().reset_index()\n",
        "b=df.groupby('Temperature_cat')['Rented Bike Count'].mean().reset_index()\n",
        "\n",
        "#Barplot of bike sharing demand during different temperature categories\n",
        "fig = x.bar(b, x=\"Temperature_cat\",y=\"Rented Bike Count\",title='Rented bike average demand during different temprature range',color='Temperature_cat', height=400,width=600)\n",
        "fig.show()\n",
        "\n",
        "#Pie plot showing percentage of demand \n",
        "fig = x.pie(b, values='Rented Bike Count', names=b['Temperature_cat'].unique(),title='Percentage of Rented bike average demand during different temprature ranges',hole=.5)\n",
        "fig.update_layout(autosize=True,width=750,height=600)\n",
        "fig.show()"
      ],
      "metadata": {
        "id": "g25JQVEsZAfQ"
      },
      "execution_count": null,
      "outputs": []
    },
    {
      "cell_type": "code",
      "source": [
        "#Calculating mean temperature in month vs rented bike count\n",
        "b=df.groupby(['Month'])['Temperature(°C)','Rented Bike Count'].mean().reset_index()\n",
        "b['Temperature(°C)']=round(b['Temperature(°C)'],2)\n",
        "\n",
        "#Line plot of mean temperature in different month\n",
        "fig = plt.subplots(figsize=(30, 6))\n",
        "sns.pointplot(x= 'Temperature(°C)', y= 'Rented Bike Count', data=b)\n",
        "plt.title('Mean temperature in different month vs Rented Bike Count')\n",
        "plt.show()"
      ],
      "metadata": {
        "id": "d-hhMT05scrf"
      },
      "execution_count": null,
      "outputs": []
    },
    {
      "cell_type": "markdown",
      "source": [
        "##### 2. What is/are the insight(s) found from the chart?"
      ],
      "metadata": {
        "id": "_ouA3fa0phqN"
      }
    },
    {
      "cell_type": "markdown",
      "source": [
        "Bike-sharing demand is lowest during severely cold days when the temperature drops below 4-degree celsius."
      ],
      "metadata": {
        "id": "VECbqPI7phqN"
      }
    },
    {
      "cell_type": "markdown",
      "source": [
        "##### 3. Will the gained insights help creating a positive business impact? \n",
        "Are there any insights that lead to negative growth? Justify with specific reason."
      ],
      "metadata": {
        "id": "Seke61FWphqN"
      }
    },
    {
      "cell_type": "markdown",
      "source": [
        "Bike-sharing demand drops when the temperature drops below 4 degrees Celsius or goes above 23.14 degrees Celsius."
      ],
      "metadata": {
        "id": "DW4_bGpfphqN"
      }
    },
    {
      "cell_type": "markdown",
      "source": [
        "#### Chart - 8\n",
        "\n",
        "# Impact of Dew point temperature on bike sharing demand."
      ],
      "metadata": {
        "id": "BZR9WyysphqO"
      }
    },
    {
      "cell_type": "code",
      "source": [
        "# Chart - 8 visualization code\n",
        "fig,axes = plt.subplots(1,2,figsize=(15, 5)) # Create the figure and axes object\n",
        "\n",
        "#Regression plot of dew point temperature vs rented bike count\n",
        "sns.regplot(x='Dew point temperature(°C)',scatter_kws={\"color\": \"salmon\"}, line_kws={\"color\": \"blue\"},\n",
        "                    y='Rented Bike Count',\n",
        "                    data=df,ax=axes[0])\n",
        "\n",
        "#Regression plot of dew point temperature vs rainfall\n",
        "sns.regplot(x='Dew point temperature(°C)',scatter_kws={\"color\": \"salmon\"},\n",
        "                    y='Rainfall(mm)',\n",
        "                    data=df,ax=axes[1])\n",
        "fig.show()\n",
        "plot_mean('Dew point temperature(°C)')"
      ],
      "metadata": {
        "id": "n3suoRsclsbH"
      },
      "execution_count": null,
      "outputs": []
    },
    {
      "cell_type": "markdown",
      "source": [
        "<b>What is/are the insight(s) found from the chart?"
      ],
      "metadata": {
        "id": "1sBniqkytWMo"
      }
    },
    {
      "cell_type": "markdown",
      "source": [
        "* Lower the dew point temperature, lower the bike sharing demand(severe winter).\n",
        "* Higher the dew point temperature higher the possibility of rainfall."
      ],
      "metadata": {
        "id": "fdy4IF8YtX7L"
      }
    },
    {
      "cell_type": "code",
      "source": [
        "# Impact of Solar Radiation on bike sharing demand.\n",
        "\n",
        "# Chart - 9 visualization code\n",
        "\n",
        "#regression plot of average solar radiation vs rented bike count\n",
        "sns.regplot(x='Solar Radiation (MJ/m2)',scatter_kws={\"color\": \"salmon\"}, line_kws={\"color\": \"blue\"},\n",
        "                    y='Rented Bike Count',\n",
        "                    data=df)\n",
        "fig.show()\n",
        "\n",
        "plot_mean('Solar Radiation (MJ/m2)')\n"
      ],
      "metadata": {
        "id": "xrCSHSHynKAr"
      },
      "execution_count": null,
      "outputs": []
    },
    {
      "cell_type": "markdown",
      "source": [
        "##### 1. What is/are the insight(s) found from the chart?"
      ],
      "metadata": {
        "id": "aK8QIqhQtuMW"
      }
    },
    {
      "cell_type": "markdown",
      "source": [
        "As Solar Radiation increases demand for bike sharing decreases."
      ],
      "metadata": {
        "id": "LeRJbS7ftzOO"
      }
    },
    {
      "cell_type": "code",
      "source": [
        "#Calculating mean bike demand based on visibility\n",
        "\n",
        "#Calculating rented bike count vs visibility categorical\n",
        "import plotly.express as x\n",
        "a=df['Visibility_cat'].value_counts().reset_index()\n",
        "b=df.groupby('Visibility_cat')['Rented Bike Count'].mean().reset_index()\n",
        "fig = x.bar(b, x=\"Visibility_cat\",y=\"Rented Bike Count\",title='Impact of visibility on bike sharing demand',color='Visibility_cat', height=400,width=600)\n",
        "fig.show()\n",
        "\n",
        "#Barplot of mean visibility in different season\n",
        "plot_mean('Visibility (10m)')\n",
        "\n",
        "#calculating visibility categories in month\n",
        "visibility_df=df.groupby(['Month'])['Visibility_cat'].value_counts().unstack().reset_index()\n",
        "visibility_df=visibility_df.round(0)\n",
        "\n",
        "#Ploting grouped bar chart of visibility categories in month\n",
        "import plotly.graph_objects as px\n",
        "fig = px.Figure(data=[\n",
        "    px.Bar(name='Average Bad Visibility Days', x=visibility_df['Month'], y=visibility_df['low']),\n",
        "    px.Bar(name='Average Fair Visibility Days', x=visibility_df['Month'], y=visibility_df['medium']),\n",
        "    px.Bar(name='Average Good Visibility Days', x=visibility_df['Month'], y=visibility_df['good'])])\n",
        "    \n",
        "\n",
        "fig.update_layout(width=800,height=500,barmode='group',title = 'Average Visibility in a month')\n",
        "fig.show()"
      ],
      "metadata": {
        "id": "6xFlJq8enlNA"
      },
      "execution_count": null,
      "outputs": []
    },
    {
      "cell_type": "markdown",
      "source": [
        "The company can keep less inventory during days when visibility is low due to  rain or fog/smog."
      ],
      "metadata": {
        "id": "KiWtrGXGutir"
      }
    },
    {
      "cell_type": "code",
      "source": [
        "# Chart - 9 visualization code\n",
        "\n",
        "#Barplot of holiday vs rented bike count\n",
        "y=df.groupby('Holiday')['Rented Bike Count'].mean().reset_index()\n",
        "fig = plt.subplots(figsize=(8, 6))\n",
        "sns.barplot(x ='Holiday',\n",
        "            y ='Rented Bike Count',\n",
        "            data = y).set_title('Average Bike demand during Holidays')\n",
        "plt.show()\n",
        "\n",
        "#For plotting hourwise demand during holidays\n",
        "c=holiday_df.groupby('Hour')['Rented Bike Count'].mean().reset_index()\n",
        "\n",
        "fig = plt.subplots(figsize=(12, 6))\n",
        "sns.barplot(x ='Hour',\n",
        "            y ='Rented Bike Count',\n",
        "            data = c).set_title('Hourwise Bike sharing Demand during holidays')\n",
        "plt.show()\n",
        "\n",
        "#Pie plot showing percentage of demand per hour during holidays\n",
        "fig = x.pie(c, values='Rented Bike Count', names=c['Hour'].unique(),title='Percentage of Hourwise Bike sharing Demand during holidays')\n",
        "fig.update_layout(autosize=False,width=600,height=400,legend_title_text = \"Hour of the day\")\n",
        "fig.update_layout(autosize=True,width=750,height=600)"
      ],
      "metadata": {
        "id": "UMbj27Dln1XR"
      },
      "execution_count": null,
      "outputs": []
    },
    {
      "cell_type": "markdown",
      "source": [
        "Less demand is observed at 8 AM during holidays this might be due to a decrease in daily commuters for office work and more demand is observed during 5 PM which might be due to people going out for leisure or shopping purposes.\n",
        "\n",
        "The company can keep less inventory during office commutation hours i.e 8 AM and more during 5 PM"
      ],
      "metadata": {
        "id": "c9bwNJbxXJJp"
      }
    },
    {
      "cell_type": "code",
      "source": [
        "# Chart - 10 visualization code\n",
        "\n",
        "#Avg demand during weekdays and weekend.\n",
        "avg_demand('Weekday')\n",
        "y=df.groupby(['Weekday','Hour'])['Rented Bike Count'].mean().reset_index()\n",
        "\n",
        "#Bar plot to show hourwise demand during weekend\n",
        "y=y[y['Weekday']==0]\n",
        "fig = plt.subplots(figsize=(10, 6))\n",
        "sns.barplot(x ='Hour',\n",
        "            y ='Rented Bike Count',\n",
        "            data = y).set_title('Average Bike demand during Weekend')\n",
        "plt.show()\n",
        "\n",
        "#Pie plot showing percentage of demand per hour during weekend\n",
        "fig = x.pie(y, values='Rented Bike Count', names=y['Hour'].unique(),title='Percentage of average hourwise Bike demand during Weekend')\n",
        "fig.update_layout(autosize=False,width=600,height=400,legend_title_text = \"Hour of the day\")\n",
        "fig.update_layout(autosize=True,width=750,height=600)"
      ],
      "metadata": {
        "id": "Szy8cXmOoT7p"
      },
      "execution_count": null,
      "outputs": []
    },
    {
      "cell_type": "markdown",
      "source": [
        "##### 1. Why did you pick the specific chart?"
      ],
      "metadata": {
        "id": "jj7wYXLtphqO"
      }
    },
    {
      "cell_type": "markdown",
      "source": [
        "Not much difference in average bike-sharing demand is observed during weekdays and weekends.So it seems less demand during day time is compensated by more demand during evening and night time.."
      ],
      "metadata": {
        "id": "Ob8u6rCTphqO"
      }
    },
    {
      "cell_type": "markdown",
      "source": [
        "##### 3. Will the gained insights help creating a positive business impact? \n",
        "Are there any insights that lead to negative growth? Justify with specific reason."
      ],
      "metadata": {
        "id": "rFu4xreNphqO"
      }
    },
    {
      "cell_type": "markdown",
      "source": [
        "So the company can keep less inventory on weekends during the day time and more during evening and night time."
      ],
      "metadata": {
        "id": "ey_0qi68phqO"
      }
    },
    {
      "cell_type": "markdown",
      "source": [
        "#### Chart - 9"
      ],
      "metadata": {
        "id": "YJ55k-q6phqO"
      }
    },
    {
      "cell_type": "code",
      "source": [
        "# Chart - 9 visualization code\n",
        "# checking Outliers with seaborn boxplot\n",
        "check_outlier=['Hour', 'Temperature(°C)', 'Humidity(%)','Wind speed (m/s)', 'Visibility (10m)',\n",
        "               'Dew point temperature(°C)','Solar Radiation (MJ/m2)','Rainfall(mm)','Snowfall (cm)','Rented Bike Count']\n",
        "n =0\n",
        "plt.figure(figsize=(15,10))\n",
        "for i in check_outlier:\n",
        "  if n<10:\n",
        "    n=n+1\n",
        "  plt.subplot(4,4,n)\n",
        "  sns.boxplot(df[i],whis=1.5)\n",
        "  plt.title(i)\n",
        "  plt.tight_layout()"
      ],
      "metadata": {
        "id": "B2aS4O1ophqO"
      },
      "execution_count": null,
      "outputs": []
    },
    {
      "cell_type": "code",
      "source": [
        "#Chart 10\n",
        "#lineplot of datewise bike sharing demand\n",
        "count_date=df.groupby(['Date'])['Rented Bike Count'].sum().reset_index()\n",
        "fig = plt.figure(figsize=(25,6))\n",
        "ax = plt.axes()\n",
        "x = count_date['Date']\n",
        "ax.plot(x, count_date['Rented Bike Count'])\n",
        "plt.show()"
      ],
      "metadata": {
        "id": "lcbOIVtDwOis"
      },
      "execution_count": null,
      "outputs": []
    },
    {
      "cell_type": "markdown",
      "source": [
        "##### 2. What is/are the insight(s) found from the chart?\n",
        "In this dataset, our objective is to predict optimum bike-sharing demand during each hour to maintain a stable supply of bikes to the customers. So I have decided to keep these outliers for correctly predicting bike sharing demand during these exceptional circumstances. Else I would have used an interquartile range to filter the outliers."
      ],
      "metadata": {
        "id": "OVtJsKN_phqQ"
      }
    },
    {
      "cell_type": "markdown",
      "source": [
        "#### Chart -- Correlation Heatmap"
      ],
      "metadata": {
        "id": "NC_X3p0fY2L0"
      }
    },
    {
      "cell_type": "code",
      "source": [
        "# Correlation Heatmap visualization code\n",
        "# Correlation Heatmap visualization code\n",
        "corr_df = df                  \n",
        "corr_df = corr_df.corr()\n",
        "plt.figure(figsize=(17,10))\n",
        "sns.heatmap(corr_df, vmin=-1, cmap='coolwarm', annot=True)\n",
        "plt.show()"
      ],
      "metadata": {
        "id": "xyC9zolEZNRQ"
      },
      "execution_count": null,
      "outputs": []
    },
    {
      "cell_type": "markdown",
      "source": [
        "##### 1. Why did you pick the specific chart?"
      ],
      "metadata": {
        "id": "UV0SzAkaZNRQ"
      }
    },
    {
      "cell_type": "markdown",
      "source": [
        "Heatmaps are used to show relationships between two variables, one plotted on each axis. By observing how cell colors change across each axis, you can observe if there are any patterns in value for one or both variables. Since we want to find the relationship between different variables in dataframe and heatmap can be one of the ways to visualize it."
      ],
      "metadata": {
        "id": "DVPuT8LYZNRQ"
      }
    },
    {
      "cell_type": "markdown",
      "source": [
        "##### 2. What is/are the insight(s) found from the chart?"
      ],
      "metadata": {
        "id": "YPEH6qLeZNRQ"
      }
    },
    {
      "cell_type": "markdown",
      "source": [
        "1.   Our dependent variable Rented bike count is positively correlated with hour, temperature and dew point temperature\n",
        "2.   Dew point temperature and temprature have a strong positive correlation"
      ],
      "metadata": {
        "id": "bfSqtnDqZNRR"
      }
    },
    {
      "cell_type": "markdown",
      "source": [
        "#### Chart - 15 - Pair Plot "
      ],
      "metadata": {
        "id": "q29F0dvdveiT"
      }
    },
    {
      "cell_type": "code",
      "source": [
        "# Pair Plot visualization code\n",
        "v=df[['Hour', 'Temperature(°C)',\n",
        "       'Wind speed (m/s)','Dew point temperature(°C)',\n",
        "       'Solar Radiation (MJ/m2)',\n",
        "       'Holiday','Month', 'Day']]\n",
        "g = sns.pairplot(data=df,size=3,x_vars=v,y_vars='Rented Bike Count')\n",
        "plt.show()"
      ],
      "metadata": {
        "id": "o58-TEIhveiU"
      },
      "execution_count": null,
      "outputs": []
    },
    {
      "cell_type": "markdown",
      "source": [
        "##### 1. Why did you pick the specific chart?"
      ],
      "metadata": {
        "id": "EXh0U9oCveiU"
      }
    },
    {
      "cell_type": "markdown",
      "source": [
        "A pairs plot allows us to see both distribution of single variables and relationships between two variables."
      ],
      "metadata": {
        "id": "eMmPjTByveiU"
      }
    },
    {
      "cell_type": "markdown",
      "source": [
        "**From EDA we can observe that:-**\n",
        "\n",
        "Very low bike sharing demand during the year 2017 as compared to the year 2018.\n",
        "\n",
        "Among all the seasons maximum bike sharing demand is observed during the summer season and minimum in the winter season which might be due to severe weather conditions.\n",
        "\n",
        "Among all the months more bike sharing demand is observed during June, July, and August and lowest during February.\n",
        "\n",
        "More bike-sharing demand is observed during the 13th day of the month while on other days it is quite uniformly distributed\n",
        "\n",
        "During day time more demand is observed at 8:00 AM which keeps on increasing after 9 AM and is maximum at 6 PM.\n",
        "\n",
        "Less demand is observed at 8 AM during holidays this might be due to a decrease in daily commuters for office work and more demand is observed during 5 PM which might be due to people going out for leisure or shopping purposes.\n",
        "\n",
        "Not much difference in average bike-sharing demand is observed during weekdays and weekends. So it seems less demand during day time is compensated by more demand during evening and night time.\n",
        "\n",
        "Rainfall and snowfall days lead to a decrease in bike-sharing demand.\n",
        "\n",
        "Bike sharing demand is lowest during severely cold days when the temperature drops below 4 degrees Celsius.\n",
        "\n",
        "Lower the dew point temperature and lower the bike sharing demand(severe winter). While the higher the dew point temperature higher is the possibility of rainfall. So in both, the scenario bike demand is less.\n",
        "\n",
        "As Solar Radiation increases demand for bike sharing increases.\n",
        "\n",
        "Low bike sharing demand is observed on low visibility days."
      ],
      "metadata": {
        "id": "uPQ8RGwHveiV"
      }
    },
    {
      "cell_type": "markdown",
      "source": [
        "Suggestion to the company on the basis of EDA :-\n",
        "\n",
        "More bike inventory needs to be kept during June, and July month to meet bike sharing demand.\n",
        "\n",
        "During day time more inventory should be kept at 8:00 AM and maximum at 6:00 PM during evening time.\n",
        "\n",
        "But on holidays and weekends the company can keep less inventory during 8 AM and more during 5 PM .\n",
        "\n",
        "During high rainfall prediction days, company can keep less inventory as there would be low demand during these days.\n",
        "\n",
        "Snowfall generally occurs during winter and autumn seasons and during these days bike demand is generally low so during these period company can continue with low bike inventory.\n",
        "\n",
        "Bike-sharing demand is lowest during severely cold days when the temperature drops below 4-degree celsius.\n",
        "\n",
        "As Solar Radiation value increases demand for bike sharing increases which shows more inventory needs to be kept in the daytime as compared to nighttime.\n",
        "\n",
        "The company can keep less inventory during days when visibility is low due to yellow dust which mainly occurs from March to May every year."
      ],
      "metadata": {
        "id": "b_VyYtsDxw9Y"
      }
    },
    {
      "cell_type": "markdown",
      "source": [
        "## ***5. Hypothesis Testing***"
      ],
      "metadata": {
        "id": "g-ATYxFrGrvw"
      }
    },
    {
      "cell_type": "markdown",
      "source": [
        "### Based on your chart experiments, define three hypothetical statements from the dataset. In the next three questions, perform hypothesis testing to obtain final conclusion about the statements through your code and statistical testing."
      ],
      "metadata": {
        "id": "Yfr_Vlr8HBkt"
      }
    },
    {
      "cell_type": "markdown",
      "source": [
        "### Hypothetical Statement - 1"
      ],
      "metadata": {
        "id": "8yEUt7NnHlrM"
      }
    },
    {
      "cell_type": "markdown",
      "source": [
        "#### 1. State Your research hypothesis as a null hypothesis and alternate hypothesis."
      ],
      "metadata": {
        "id": "tEA2Xm5dHt1r"
      }
    },
    {
      "cell_type": "markdown",
      "source": [
        " H0(null hypothesis):There is no difference in mean bike sharing demand when temprature drops below 4 degree celcius.\n",
        "\n",
        "H1(alternate hypothesis):Mean bike sharing demand is less when temprature drops below 4 degree celcius."
      ],
      "metadata": {
        "id": "HI9ZP0laH0D-"
      }
    },
    {
      "cell_type": "markdown",
      "source": [
        "#### 2. Perform an appropriate statistical test."
      ],
      "metadata": {
        "id": "I79__PHVH19G"
      }
    },
    {
      "cell_type": "code",
      "source": [
        "df['Rented Bike Count'].mean()"
      ],
      "metadata": {
        "id": "n-iaWRoGZLgm"
      },
      "execution_count": null,
      "outputs": []
    },
    {
      "cell_type": "code",
      "source": [
        "# Perform Statistical Test to obtain P-Value\n",
        "df[df['Temperature(°C)']<4]['Rented Bike Count'].mean()\n",
        "#Finding P-value using one sample t-test\n",
        "_,p_value=stats.ttest_1samp(a=df[df['Temperature(°C)']<4]['Rented Bike Count'],popmean=df['Rented Bike Count'].mean(),alternative=\"less\")"
      ],
      "metadata": {
        "id": "oZrfquKtyian"
      },
      "execution_count": null,
      "outputs": []
    },
    {
      "cell_type": "code",
      "source": [
        "#99% Confidence interval\n",
        "if p_value < 0.01:\n",
        "  print('We are rejecting null hypothesis')\n",
        "else:\n",
        "  print('We are accepting null hypothesis') "
      ],
      "metadata": {
        "id": "IapbalFnZUhl"
      },
      "execution_count": null,
      "outputs": []
    },
    {
      "cell_type": "markdown",
      "source": [
        "##### Which statistical test have you done to obtain P-Value?"
      ],
      "metadata": {
        "id": "Ou-I18pAyIpj"
      }
    },
    {
      "cell_type": "markdown",
      "source": [
        "One sample  t-Test."
      ],
      "metadata": {
        "id": "s2U0kk00ygSB"
      }
    },
    {
      "cell_type": "markdown",
      "source": [
        "##### Why did you choose the specific statistical test?"
      ],
      "metadata": {
        "id": "fF3858GYyt-u"
      }
    },
    {
      "cell_type": "markdown",
      "source": [
        "The one-sample t-test is a statistical procedure used to determine whether the mean value of a sample is statistically the same or different from the mean value of its parent population from which the sample was drawn and since I wanted to check if there is a significant drop in bike sharing demand when the temperature is less 4 degrees celsius and when it is above 4-degree celsius. So I have used a one-tailed t-Test."
      ],
      "metadata": {
        "id": "HO4K0gP5y3B4"
      }
    },
    {
      "cell_type": "markdown",
      "source": [
        "# Hypothetical Statement - 2"
      ],
      "metadata": {
        "id": "4_0_7-oCpUZd"
      }
    },
    {
      "cell_type": "markdown",
      "source": [
        "#### 1. State Your research hypothesis as a null hypothesis and alternate hypothesis."
      ],
      "metadata": {
        "id": "hwyV_J3ipUZe"
      }
    },
    {
      "cell_type": "markdown",
      "source": [
        "*H0:There is no difference in mean bike demand during winter\n",
        " \n",
        "H1:Mean bike sharing demand is lesser during winter."
      ],
      "metadata": {
        "id": "FnpLGJ-4pUZe"
      }
    },
    {
      "cell_type": "markdown",
      "source": [
        "#### 2. Perform an appropriate statistical test."
      ],
      "metadata": {
        "id": "3yB-zSqbpUZe"
      }
    },
    {
      "cell_type": "code",
      "source": [
        "# Perform Statistical Test to obtain P-Value\n",
        "#Mean bike sharing demand during winter\n",
        "df[df['Seasons']=='Winter']['Rented Bike Count'].mean()"
      ],
      "metadata": {
        "id": "sWxdNTXNpUZe"
      },
      "execution_count": null,
      "outputs": []
    },
    {
      "cell_type": "code",
      "source": [
        "# Perform Statistical Test to obtain P-Value\n",
        "_,p_value=stats.ttest_1samp(a=df[df['Seasons']=='Winter']['Rented Bike Count'],popmean=df['Rented Bike Count'].mean())"
      ],
      "metadata": {
        "id": "SS1AJ1RHCKXC"
      },
      "execution_count": null,
      "outputs": []
    },
    {
      "cell_type": "code",
      "source": [
        "if p_value < 0.05:\n",
        "  print('We are rejecting null hypothesis')\n",
        "else:\n",
        "  print('We are accepting null hypothesis') "
      ],
      "metadata": {
        "id": "M4o89LfgCRaV"
      },
      "execution_count": null,
      "outputs": []
    },
    {
      "cell_type": "markdown",
      "source": [
        "##### Which statistical test have you done to obtain P-Value?"
      ],
      "metadata": {
        "id": "dEUvejAfpUZe"
      }
    },
    {
      "cell_type": "markdown",
      "source": [
        "One-sample t-test"
      ],
      "metadata": {
        "id": "oLDrPz7HpUZf"
      }
    },
    {
      "cell_type": "markdown",
      "source": [
        "##### Why did you choose the specific statistical test?"
      ],
      "metadata": {
        "id": "Fd15vwWVpUZf"
      }
    },
    {
      "cell_type": "markdown",
      "source": [
        "The one-sample t-test is a statistical procedure used to determine whether the mean value of a sample is statistically the same or different from the mean value of its parent population from which the sample was drawn and since I wanted to check if there is a significant drop in bike sharing demand during the winter season. So I have used a one-tailed t-Test."
      ],
      "metadata": {
        "id": "4xOGYyiBpUZf"
      }
    },
    {
      "cell_type": "markdown",
      "source": [
        "### Hypothetical Statement - 3"
      ],
      "metadata": {
        "id": "bn_IUdTipZyH"
      }
    },
    {
      "cell_type": "markdown",
      "source": [
        "#### 1. State Your research hypothesis as a null hypothesis and alternate hypothesis."
      ],
      "metadata": {
        "id": "49K5P_iCpZyH"
      }
    },
    {
      "cell_type": "markdown",
      "source": [
        "H0:There is no difference in mean bike demand during rainfall\n",
        " \n",
        "H1:There is less bike sharing demand during rainfalle."
      ],
      "metadata": {
        "id": "7gWI5rT9pZyH"
      }
    },
    {
      "cell_type": "markdown",
      "source": [
        "#### 2. Perform an appropriate statistical test."
      ],
      "metadata": {
        "id": "Nff-vKELpZyI"
      }
    },
    {
      "cell_type": "code",
      "source": [
        "# Perform Statistical Test to obtain P-Value\n",
        "#Mean bike sharing demand during rainfall\n",
        "df[df['Rainfall(mm)']>0]['Rented Bike Count'].mean()"
      ],
      "metadata": {
        "id": "s6AnJQjtpZyI"
      },
      "execution_count": null,
      "outputs": []
    },
    {
      "cell_type": "code",
      "source": [
        "# Perform Statistical Test to obtain P-Value\n",
        "_,p_value=stats.ttest_1samp(a=df[df['Rainfall(mm)']>0]['Rented Bike Count'],popmean=df['Rented Bike Count'].mean(),alternative='less')"
      ],
      "metadata": {
        "id": "IqPvv5BYCml9"
      },
      "execution_count": null,
      "outputs": []
    },
    {
      "cell_type": "code",
      "source": [
        "p_value"
      ],
      "metadata": {
        "id": "sFFZvaz4Cs6l"
      },
      "execution_count": null,
      "outputs": []
    },
    {
      "cell_type": "code",
      "source": [
        "if p_value < 0.05:\n",
        "  print('We are rejecting null hypothesis')\n",
        "else:\n",
        "  print('We are accepting null hypothesis') "
      ],
      "metadata": {
        "id": "mk0kHx5ECvU-"
      },
      "execution_count": null,
      "outputs": []
    },
    {
      "cell_type": "markdown",
      "source": [
        "##### Which statistical test have you done to obtain P-Value?"
      ],
      "metadata": {
        "id": "kLW572S8pZyI"
      }
    },
    {
      "cell_type": "markdown",
      "source": [
        "one sample t test"
      ],
      "metadata": {
        "id": "ytWJ8v15pZyI"
      }
    },
    {
      "cell_type": "markdown",
      "source": [
        "##### Why did you choose the specific statistical test?"
      ],
      "metadata": {
        "id": "dWbDXHzopZyI"
      }
    },
    {
      "cell_type": "markdown",
      "source": [
        "The one-sample t-test is a statistical procedure used to determine whether the mean value of a sample is statistically the same or different from the mean value of its parent population from which the sample was drawn and since I wanted to check if there is a significant drop in bike sharing demand during rainfall days. So I have used a one-tailed t-Test."
      ],
      "metadata": {
        "id": "M99G98V6pZyI"
      }
    },
    {
      "cell_type": "markdown",
      "source": [
        "# Hypothetical Statement - 4"
      ],
      "metadata": {
        "id": "Je4Yf46raxDm"
      }
    },
    {
      "cell_type": "markdown",
      "source": [
        "1. State Your research hypothesis as a null hypothesis and alternate hypothesis.\n",
        "\n",
        " H0:There is no difference in mean bike demand during snowfall.\n",
        " \n",
        "  H1:There is less bike sharing demand during snowfall."
      ],
      "metadata": {
        "id": "WnGRI5x7bEzd"
      }
    },
    {
      "cell_type": "code",
      "source": [
        "#Mean bike sharing demand during snowfall\n",
        "df[df['Snowfall (cm)']>0]['Rented Bike Count'].mean()"
      ],
      "metadata": {
        "id": "sH7sxtlfbXux"
      },
      "execution_count": null,
      "outputs": []
    },
    {
      "cell_type": "code",
      "source": [
        "#Mean bike sharing demand during non snowfall days.\n",
        "df[df['Snowfall (cm)']==0]['Rented Bike Count'].mean()"
      ],
      "metadata": {
        "id": "XDF6iWpCbo31"
      },
      "execution_count": null,
      "outputs": []
    },
    {
      "cell_type": "code",
      "source": [
        "_,p_value=stats.ttest_1samp(a=df[df['Snowfall (cm)']>0]['Rented Bike Count'],popmean=df[df['Snowfall (cm)']==0]['Rented Bike Count'].mean(),alternative='less')"
      ],
      "metadata": {
        "id": "GVEBgAIwb3ad"
      },
      "execution_count": null,
      "outputs": []
    },
    {
      "cell_type": "code",
      "source": [
        "if p_value < 0.05:\n",
        "  print('We are rejecting null hypothesis')\n",
        "else:\n",
        "  print('We are accepting null hypothesis') "
      ],
      "metadata": {
        "id": "4fnKUMQecIpj"
      },
      "execution_count": null,
      "outputs": []
    },
    {
      "cell_type": "markdown",
      "source": [
        "Thus we can conclude that there is significantly low bike sharing demand during snowfall days"
      ],
      "metadata": {
        "id": "xmEvOyFUcS-f"
      }
    },
    {
      "cell_type": "code",
      "source": [
        "#Dropping created categorical variable as we done with EDA and hypothesis testing|\n",
        "df=df.drop(['Weekday','Rainfall_bool','Snowfall_bool','Visibility_cat','Temperature_cat','Solar Radiation_cat'],axis=1)"
      ],
      "metadata": {
        "id": "UEZ-L67Ncjwz"
      },
      "execution_count": null,
      "outputs": []
    },
    {
      "cell_type": "code",
      "source": [
        "df.head()"
      ],
      "metadata": {
        "id": "phfKyXC823OY"
      },
      "execution_count": null,
      "outputs": []
    },
    {
      "cell_type": "markdown",
      "source": [
        "## ***6. Feature Engineering & Data Pre-processing***"
      ],
      "metadata": {
        "id": "yLjJCtPM0KBk"
      }
    },
    {
      "cell_type": "markdown",
      "source": [
        "### 1. Handling Missing Values"
      ],
      "metadata": {
        "id": "xiyOF9F70UgQ"
      }
    },
    {
      "cell_type": "code",
      "source": [
        "# Handling Missing Values & Missing Value Imputation\n",
        "#No missing values found."
      ],
      "metadata": {
        "id": "iRsAHk1K0fpS"
      },
      "execution_count": null,
      "outputs": []
    },
    {
      "cell_type": "markdown",
      "source": [
        "#### What all missing value imputation techniques have you used and why did you use those techniques?"
      ],
      "metadata": {
        "id": "7wuGOrhz0itI"
      }
    },
    {
      "cell_type": "markdown",
      "source": [
        "No missing values found in the dataset.\n",
        "If there were any missing values then we can following strategy\n",
        "\n",
        "Drop them.\n",
        "Replace them with mean.\n"
      ],
      "metadata": {
        "id": "1ixusLtI0pqI"
      }
    },
    {
      "cell_type": "markdown",
      "source": [
        "### 2. Handling Outliers"
      ],
      "metadata": {
        "id": "id1riN9m0vUs"
      }
    },
    {
      "cell_type": "code",
      "source": [
        "# Handling Outliers & Outlier treatments"
      ],
      "metadata": {
        "id": "M6w2CzZf04JK"
      },
      "execution_count": null,
      "outputs": []
    },
    {
      "cell_type": "markdown",
      "source": [
        "##### What all outlier treatment techniques have you used and why did you use those techniques?"
      ],
      "metadata": {
        "id": "578E2V7j08f6"
      }
    },
    {
      "cell_type": "markdown",
      "source": [
        "Outliers can be handled:\n",
        "\n",
        "1.   Trimming/removing the outlier\n",
        "2.   Quantile based flooring \n",
        "3.   Mean/Median imputation "
      ],
      "metadata": {
        "id": "uGZz5OrT1HH-"
      }
    },
    {
      "cell_type": "markdown",
      "source": [
        "### 3. Categorical Encoding"
      ],
      "metadata": {
        "id": "89xtkJwZ18nB"
      }
    },
    {
      "cell_type": "code",
      "source": [
        "#Creating dummy variable for Season column\n",
        "season=pd.get_dummies(df['Seasons'])\n",
        "\n",
        "#Concating dummy dataframe with original dataset\n",
        "\n",
        "df=pd.concat([df,season],axis=1)"
      ],
      "metadata": {
        "id": "9xH6H5KHTO9E"
      },
      "execution_count": null,
      "outputs": []
    },
    {
      "cell_type": "code",
      "source": [
        "# Encode your categorical columns# Encode your categorical columns\n",
        "#Function to convert Categorical variable into boolean variable\n",
        "def to_boolean(x):\n",
        "  if x == 'Holiday':\n",
        "    return 1\n",
        "  else:\n",
        "    return 0\n",
        "df['Holiday'] = df['Holiday'].apply(lambda x: to_boolean(x))"
      ],
      "metadata": {
        "id": "21JmIYMG2hEo"
      },
      "execution_count": null,
      "outputs": []
    },
    {
      "cell_type": "code",
      "source": [
        "#Dropping Seasons column as it is no longer required\n",
        "df=df.drop(['Date','Seasons','Functioning Day'],axis=1)\n",
        "df.head(3)"
      ],
      "metadata": {
        "id": "SVTPPKuNS93N"
      },
      "execution_count": null,
      "outputs": []
    },
    {
      "cell_type": "markdown",
      "source": [
        "#### What all categorical encoding techniques have you used & why did you use those techniques?"
      ],
      "metadata": {
        "id": "67NQN5KX2AMe"
      }
    },
    {
      "cell_type": "markdown",
      "source": [
        "### 4. Feature Manipulation & Selection"
      ],
      "metadata": {
        "id": "-oLEiFgy-5Pf"
      }
    },
    {
      "cell_type": "markdown",
      "source": [
        "#### 1. Feature Manipulation"
      ],
      "metadata": {
        "id": "C74aWNz2AliB"
      }
    },
    {
      "cell_type": "code",
      "source": [
        "# Manipulate Features to minimize feature correlation and create new features"
      ],
      "metadata": {
        "id": "h1qC4yhBApWC"
      },
      "execution_count": null,
      "outputs": []
    },
    {
      "cell_type": "markdown",
      "source": [
        "#### 2. Feature Selection"
      ],
      "metadata": {
        "id": "2DejudWSA-a0"
      }
    },
    {
      "cell_type": "code",
      "source": [
        "# Select your features wisely to avoid overfitting\n",
        "#Finding P  of all the available variables\n",
        "from sklearn.feature_selection import SelectKBest,f_regression\n",
        "X=df.drop(['Rented Bike Count'],axis=1)\n",
        "y=df['Rented Bike Count']\n",
        "\n",
        "#for selecting 5 best features from dataset\n",
        "feature_selector = SelectKBest(f_regression,k=5) \n",
        "fit=feature_selector.fit(X,y)"
      ],
      "metadata": {
        "id": "YLhe8UmaBCEE"
      },
      "execution_count": null,
      "outputs": []
    },
    {
      "cell_type": "code",
      "source": [
        "# Perform Statistical Test to obtain P-Value\n",
        "\n",
        "#Storing results in dataframe \n",
        "p_values=pd.DataFrame(fit.pvalues_)\n",
        "input_variable_names=pd.DataFrame(X.columns)\n",
        "\n",
        "#Concating two dataframe\n",
        "summary_stats=pd.concat([input_variable_names,p_values],axis=1)\n",
        "summary_stats.columns=['input_variable','p_value']\n",
        "\n",
        "#Selecting values based on 99% confidence interval.\n",
        "selected_variable=summary_stats.loc[(summary_stats['p_value']<=0.1)]\n",
        "selected_variable"
      ],
      "metadata": {
        "id": "wu486c_weAP2"
      },
      "execution_count": null,
      "outputs": []
    },
    {
      "cell_type": "markdown",
      "source": [
        "##### What all feature selection methods have you used  and why?"
      ],
      "metadata": {
        "id": "pEMng2IbBLp7"
      }
    },
    {
      "cell_type": "markdown",
      "source": [
        " Since we are not getting any concrete answer for feature selection as all the features are getting selected. So I will use Manual Feature Elimination Approach ."
      ],
      "metadata": {
        "id": "rb2Lh6Z8BgGs"
      }
    },
    {
      "cell_type": "markdown",
      "source": [
        "##### Which all features you found important and why?"
      ],
      "metadata": {
        "id": "rAdphbQ9Bhjc"
      }
    },
    {
      "cell_type": "markdown",
      "source": [
        "Manual Feature Elimination Approach\n",
        "-\n",
        "\n",
        "a. Build the model with all the features.\n",
        "\n",
        "b. Drop the features that are least helpful in prediction (high p-value).\n",
        "\n",
        "c. Drop features that are redundant (using correlations(heatmap), VIF).\n",
        "\n",
        "d. Rebuild the model.\n",
        "\n",
        "e. Repeat the above steps till a good model is reached.."
      ],
      "metadata": {
        "id": "fGgaEstsBnaf"
      }
    },
    {
      "cell_type": "markdown",
      "source": [
        "### 5. Data Transformation"
      ],
      "metadata": {
        "id": "TNVZ9zx19K6k"
      }
    },
    {
      "cell_type": "code",
      "source": [
        "# Transform Your data\n",
        "y=np.cbrt(df['Rented Bike Count'])\n",
        "X=np.cbrt(df.drop(['Rented Bike Count'],axis=1))"
      ],
      "metadata": {
        "id": "XtS5mU0DffqQ"
      },
      "execution_count": null,
      "outputs": []
    },
    {
      "cell_type": "markdown",
      "source": [
        "#### Do you think that your data needs to be transformed? If yes, which transformation have you used. Explain Why?"
      ],
      "metadata": {
        "id": "nqoHp30x9hH9"
      }
    },
    {
      "cell_type": "markdown",
      "source": [
        "Tranformation is to be done to improve the convinience,spread,linear relationships and skewness.\n",
        "   \n",
        "   The cube root, x to x^(1/3). This is a fairly strong transformation with\n",
        "  a substantial effect on distribution shape: it is weaker than the    logarithm. It is also used for reducing right skewness, and has the  advantage that it can be applied to zero and negative values.The cube root of a volume has the units of a length. It is commonly applied to rainfall data.\n",
        "\n"
      ],
      "metadata": {
        "id": "nebhj10XNKjn"
      }
    },
    {
      "cell_type": "markdown",
      "source": [
        "# 6. Data Splitting"
      ],
      "metadata": {
        "id": "c3MzKjJ1BiHM"
      }
    },
    {
      "cell_type": "code",
      "source": [
        "# Split your data to train and test. Choose Splitting ratio wisely.\n",
        "from sklearn.model_selection import train_test_split \n",
        "X_train, X_test, y_train, y_test = train_test_split( X,y , test_size = 0.2, random_state = 0) \n",
        "print(X_train.shape)\n",
        "print(X_test.shape)"
      ],
      "metadata": {
        "id": "0CTyd2UwEyNM"
      },
      "execution_count": null,
      "outputs": []
    },
    {
      "cell_type": "markdown",
      "source": [
        "We generally do data splitting as we don't want our model to overfit our dataset and usually done in the ratio of 70:30 or 80:20.I have used an 80:20 split on the dataset."
      ],
      "metadata": {
        "id": "l9vwfCH4CCjY"
      }
    },
    {
      "cell_type": "markdown",
      "source": [
        "### 6. Data Scaling"
      ],
      "metadata": {
        "id": "rMDnDkt2B6du"
      }
    },
    {
      "cell_type": "code",
      "source": [
        "# Scaling your data\n",
        "\n",
        "#Creating object \n",
        "scaler = MinMaxScaler()\n",
        "\n",
        "#Fit on data\n",
        "X_train[X_train.columns]=scaler.fit_transform(X_train[X_train.columns])\n",
        "X_test[X_train.columns]=scaler.transform(X_test[X_test.columns])\n",
        "\n",
        "X_train.head()"
      ],
      "metadata": {
        "id": "dL9LWpySC6x_"
      },
      "execution_count": null,
      "outputs": []
    },
    {
      "cell_type": "markdown",
      "source": [
        "##### Which method have you used to scale you data and why?\n",
        "As values in the Visibility column are quite large as compared to other \n",
        "columns so there is a need to scale this column so that the coefficients of the model are comparable.\n",
        "\n",
        "I have used Min-max scaling for scaling our dataset.    \n"
      ],
      "metadata": {
        "id": "yiiVWRdJDDil"
      }
    },
    {
      "cell_type": "markdown",
      "source": [
        "### 9. Handling Imbalanced Dataset"
      ],
      "metadata": {
        "id": "P1XJ9OREExlT"
      }
    },
    {
      "cell_type": "markdown",
      "source": [
        "##### Do you think the dataset is imbalanced? Explain Why."
      ],
      "metadata": {
        "id": "VFOzZv6IFROw"
      }
    },
    {
      "cell_type": "markdown",
      "source": [
        "The datset is balanced."
      ],
      "metadata": {
        "id": "GeKDIv7pFgcC"
      }
    },
    {
      "cell_type": "code",
      "source": [
        "# Handling Imbalanced Dataset (If needed)"
      ],
      "metadata": {
        "id": "nQsRhhZLFiDs"
      },
      "execution_count": null,
      "outputs": []
    },
    {
      "cell_type": "markdown",
      "source": [
        "## ***7. ML Model Implementation***"
      ],
      "metadata": {
        "id": "VfCC591jGiD4"
      }
    },
    {
      "cell_type": "markdown",
      "source": [
        "### ML Model - 1"
      ],
      "metadata": {
        "id": "OB4l2ZhMeS1U"
      }
    },
    {
      "cell_type": "code",
      "source": [
        "# ML Model - 1 Implementation\n",
        "from sklearn.linear_model import LinearRegression\n",
        "\n",
        "reg = LinearRegression().fit(X_train, y_train)\n",
        "\n"
      ],
      "metadata": {
        "id": "7ebyywQieS1U"
      },
      "execution_count": null,
      "outputs": []
    },
    {
      "cell_type": "code",
      "source": [
        "reg.score(X_train, y_train)"
      ],
      "metadata": {
        "id": "g8pTdRHIoVRv"
      },
      "execution_count": null,
      "outputs": []
    },
    {
      "cell_type": "code",
      "source": [
        "reg.coef_"
      ],
      "metadata": {
        "id": "_HlYqPxaoaKM"
      },
      "execution_count": null,
      "outputs": []
    },
    {
      "cell_type": "code",
      "source": [
        "reg.intercept_"
      ],
      "metadata": {
        "id": "plDW048Pof8t"
      },
      "execution_count": null,
      "outputs": []
    },
    {
      "cell_type": "code",
      "source": [
        "y_pred = reg.predict(X_test)\n",
        "y_pred"
      ],
      "metadata": {
        "id": "KoVE3m6JojtY"
      },
      "execution_count": null,
      "outputs": []
    },
    {
      "cell_type": "code",
      "source": [
        "from sklearn.metrics import mean_squared_error\n",
        "\n",
        "MSE  = mean_squared_error((y_test)**3,(y_pred)**3)\n",
        "print(\"MSE :\" , MSE)\n",
        "\n",
        "RMSE = np.sqrt(MSE)\n",
        "print(\"RMSE :\" ,RMSE)"
      ],
      "metadata": {
        "id": "DhsJVc7noq3V"
      },
      "execution_count": null,
      "outputs": []
    },
    {
      "cell_type": "code",
      "source": [
        "from sklearn.metrics import r2_score\n",
        "r2 = r2_score((y_test)**3, (y_pred)**3)\n",
        "print(\"R2 :\" ,r2)\n",
        "print(\"Adjusted R2 : \",1-(1-r2_score((y_test)**3, (y_pred)**3))*((X_test.shape[0]-1)/(X_test.shape[0]-X_test.shape[1]-1)))"
      ],
      "metadata": {
        "id": "PVN-daIBovfm"
      },
      "execution_count": null,
      "outputs": []
    },
    {
      "cell_type": "code",
      "source": [
        "plt.figure(figsize=(50,5))\n",
        "plt.plot((y_pred)**3)\n",
        "plt.plot(np.array((y_test)**3))\n",
        "plt.legend([\"Predicted\",\"Actual\"])\n",
        "plt.show()"
      ],
      "metadata": {
        "id": "W90ShCxyo1IX"
      },
      "execution_count": null,
      "outputs": []
    },
    {
      "cell_type": "code",
      "source": [
        "#Multicollinearity\n",
        "from statsmodels.stats.outliers_influence import variance_inflation_factor\n",
        "def calc_vif(X):\n",
        "\n",
        "    # Calculating VIF\n",
        "    vif = pd.DataFrame()\n",
        "    vif[\"variables\"] = X.columns\n",
        "    vif[\"VIF\"] = [variance_inflation_factor(X.values, i) for i in range(X.shape[1])]\n",
        "\n",
        "    return(vif)"
      ],
      "metadata": {
        "id": "N7RGpzMHjm28"
      },
      "execution_count": null,
      "outputs": []
    },
    {
      "cell_type": "code",
      "source": [
        "calc_vif(df[[i for i in df.describe().columns if i not in ['Rented Bike Count']]])"
      ],
      "metadata": {
        "id": "pof1u9BJjqhd"
      },
      "execution_count": null,
      "outputs": []
    },
    {
      "cell_type": "markdown",
      "metadata": {
        "id": "sRfP1BRbcDFq"
      },
      "source": [
        "#Dimesionality Reduction"
      ]
    },
    {
      "cell_type": "markdown",
      "source": [
        "Which dimensionality reduction technique have you used and why? (If dimensionality reduction done on dataset.)\n",
        "\n",
        "VIF equal to 1 = variables are not correlated\n",
        "\n",
        "VIF between 1 and 5 = variables are moderately correlated\n",
        "\n",
        "VIF greater than 5 = variables are highly correlated\n",
        "\n",
        "The higher the VIF, the higher the possibility that multicollinearity exists, and further research is required.\n",
        "\n",
        "When VIF is higher than 10, there is significant multicollinearity that needs to be corrected.\n",
        "\n"
      ],
      "metadata": {
        "id": "GValjblKk3qN"
      }
    },
    {
      "cell_type": "code",
      "source": [
        " ## Correlation\n",
        "plt.figure(figsize=(15,8))\n",
        "correlation = df.corr()\n",
        "sns.heatmap(abs(correlation), annot=True, cmap='coolwarm')"
      ],
      "metadata": {
        "id": "8kvKqS4VlkXm"
      },
      "execution_count": null,
      "outputs": []
    },
    {
      "cell_type": "code",
      "source": [
        "calc_vif(df[[i for i in df.describe().columns if i not in ['Rented Bike Count','Dew point temperature(°C)','Spring','Summer']]])"
      ],
      "metadata": {
        "id": "AjZgEpdsmbBo"
      },
      "execution_count": null,
      "outputs": []
    },
    {
      "cell_type": "code",
      "source": [
        "df1=df.drop(['Dew point temperature(°C)','Summer','Spring'],axis=1)\n",
        " ## Correlation\n",
        "plt.figure(figsize=(15,8))\n",
        "correlation = df1.corr()\n",
        "sns.heatmap(abs(correlation), annot=True, cmap='coolwarm')"
      ],
      "metadata": {
        "id": "U4MYI39ro284"
      },
      "execution_count": null,
      "outputs": []
    },
    {
      "cell_type": "code",
      "source": [
        "# Transform Your data\n",
        "y=np.cbrt(df1['Rented Bike Count'])\n",
        "X=np.cbrt(df1.drop(['Rented Bike Count'],axis=1))"
      ],
      "metadata": {
        "id": "8WCDAJGrtSI_"
      },
      "execution_count": null,
      "outputs": []
    },
    {
      "cell_type": "code",
      "source": [
        "from sklearn.model_selection import train_test_split \n",
        "X_train, X_test, y_train, y_test = train_test_split( X,y , test_size = 0.2, random_state = 0) \n",
        "print(X_train.shape)\n",
        "print(X_test.shape)"
      ],
      "metadata": {
        "id": "tlD5RzTeuDY5"
      },
      "execution_count": null,
      "outputs": []
    },
    {
      "cell_type": "code",
      "source": [
        "# Scaling your data\n",
        "\n",
        "#Creating object \n",
        "scaler = MinMaxScaler()\n",
        "\n",
        "#Fit on data\n",
        "X_train[X_train.columns]=scaler.fit_transform(X_train[X_train.columns])\n",
        "X_test[X_train.columns]=scaler.transform(X_test[X_test.columns])\n"
      ],
      "metadata": {
        "id": "aby1k1o6uPnS"
      },
      "execution_count": null,
      "outputs": []
    },
    {
      "cell_type": "code",
      "source": [
        "# ML Model - 1 Implementation\n",
        "\n",
        "reg = LinearRegression().fit(X_train, y_train)"
      ],
      "metadata": {
        "id": "xXNX1Q0NusH6"
      },
      "execution_count": null,
      "outputs": []
    },
    {
      "cell_type": "code",
      "source": [
        "reg.score(X_train, y_train)"
      ],
      "metadata": {
        "id": "wsEUlwo_u-3K"
      },
      "execution_count": null,
      "outputs": []
    },
    {
      "cell_type": "code",
      "source": [
        "y_pred = reg.predict(X_test)\n",
        "y_pred"
      ],
      "metadata": {
        "id": "NfUOdHakvCCj"
      },
      "execution_count": null,
      "outputs": []
    },
    {
      "cell_type": "code",
      "source": [
        "\n",
        "\n",
        "MSE  = mean_squared_error((y_test)**3,(y_pred)**3)\n",
        "print(\"MSE :\" , MSE)\n",
        "\n",
        "RMSE = np.sqrt(MSE)\n",
        "print(\"RMSE :\" ,RMSE)"
      ],
      "metadata": {
        "id": "XuySc17XvYnE"
      },
      "execution_count": null,
      "outputs": []
    },
    {
      "cell_type": "code",
      "source": [
        "\n",
        "r2 = r2_score((y_test)**3, (y_pred)**3)\n",
        "print(\"R2 :\" ,r2)\n",
        "print(\"Adjusted R2 : \",1-(1-r2_score((y_test)**3, (y_pred)**3))*((X_test.shape[0]-1)/(X_test.shape[0]-X_test.shape[1]-1)))"
      ],
      "metadata": {
        "id": "1iyTsK_RvglF"
      },
      "execution_count": null,
      "outputs": []
    },
    {
      "cell_type": "markdown",
      "source": [
        "#### 1. Explain the ML Model used and it's performance using Evaluation metric Score Chart."
      ],
      "metadata": {
        "id": "ArJBuiUVfxKd"
      }
    },
    {
      "cell_type": "code",
      "source": [
        "# Visualizing evaluation Metric Score chart"
      ],
      "metadata": {
        "id": "rqD5ZohzfxKe"
      },
      "execution_count": null,
      "outputs": []
    },
    {
      "cell_type": "markdown",
      "source": [
        "#### 2. Cross- Validation & Hyperparameter Tuning"
      ],
      "metadata": {
        "id": "4qY1EAkEfxKe"
      }
    },
    {
      "cell_type": "markdown",
      "source": [
        "Linear regression does not have any hyperparameters while variants of linear regression (ridge and lasso) have regularization as a hyperparameter. "
      ],
      "metadata": {
        "id": "nQ7t8z2SyOEd"
      }
    },
    {
      "cell_type": "markdown",
      "source": [
        "### ML Model - 2"
      ],
      "metadata": {
        "id": "dJ2tPlVmpsJ0"
      }
    },
    {
      "cell_type": "markdown",
      "source": [
        "#### 1. Explain the ML Model used and it's performance using Evaluation metric Score Chart.\n",
        "\n",
        "In Lasso Regression we add Mean Absolute value of coefficients in place of mean square value. Unlike Ridge Regression, Lasso regression can completely eliminate the variable by reducing its coefficient value to 0. The new term we added to Ordinary Least Square(OLS) is called L1 Regularization."
      ],
      "metadata": {
        "id": "JWYfwnehpsJ1"
      }
    },
    {
      "cell_type": "code",
      "source": [
        "# Visualizing evaluation Metric Score chart\n",
        "from sklearn.linear_model import Lasso\n",
        "lasso  = Lasso(alpha=0.0001 , max_iter= 3000)\n",
        "\n",
        "lasso.fit(X_train, y_train)\n"
      ],
      "metadata": {
        "id": "yEl-hgQWpsJ1"
      },
      "execution_count": null,
      "outputs": []
    },
    {
      "cell_type": "code",
      "source": [
        "lasso.score(X_train, y_train)"
      ],
      "metadata": {
        "id": "3AunJcDOl-uq"
      },
      "execution_count": null,
      "outputs": []
    },
    {
      "cell_type": "code",
      "source": [
        "lasso.coef_"
      ],
      "metadata": {
        "id": "BTMFv0IUmC9r"
      },
      "execution_count": null,
      "outputs": []
    },
    {
      "cell_type": "markdown",
      "source": [
        "#### 2. Cross- Validation & Hyperparameter Tuning"
      ],
      "metadata": {
        "id": "-jK_YjpMpsJ2"
      }
    },
    {
      "cell_type": "code",
      "source": [
        "# ML Model - 1 Implementation with hyperparameter optimization techniques (i.e., GridSearch CV, RandomSearch CV, Bayesian Optimization etc.)\n",
        "### Cross validation\n",
        "from sklearn.model_selection import GridSearchCV\n",
        "lasso = Lasso()\n",
        "parameters = {'alpha': [1e-15,1e-13,1e-10,1e-8,1e-5,1e-4,1e-3,1e-2,1e-1,1,5,10,20,30,40,45,50,55,60,100,0.0014]}\n",
        "lasso_regressor = GridSearchCV(lasso, parameters, scoring='neg_mean_squared_error', cv=5)\n",
        "lasso_regressor.fit(X_train, y_train)\n",
        "\n"
      ],
      "metadata": {
        "id": "Dn0EOfS6psJ2"
      },
      "execution_count": null,
      "outputs": []
    },
    {
      "cell_type": "code",
      "source": [
        "# Predict on the model\n",
        "print(\"The best fit alpha value is found out to be :\" ,lasso_regressor.best_params_)\n",
        "print(\"\\nUsing \",lasso_regressor.best_params_, \" the negative mean squared error is: \", lasso_regressor.best_score_)"
      ],
      "metadata": {
        "id": "M5jerCTrmZxi"
      },
      "execution_count": null,
      "outputs": []
    },
    {
      "cell_type": "code",
      "source": [
        "y_pred_lasso = lasso_regressor.predict(X_test)"
      ],
      "metadata": {
        "id": "MKCd8auVmr9I"
      },
      "execution_count": null,
      "outputs": []
    },
    {
      "cell_type": "markdown",
      "source": [
        "##### Which hyperparameter optimization technique have you used and why?"
      ],
      "metadata": {
        "id": "HAih1iBOpsJ2"
      }
    },
    {
      "cell_type": "markdown",
      "source": [
        "Grid Search CV"
      ],
      "metadata": {
        "id": "9kBgjYcdpsJ2"
      }
    },
    {
      "cell_type": "markdown",
      "source": [
        "##### Have you seen any improvement? Note down the improvement with updates Evaluation metric Score Chart."
      ],
      "metadata": {
        "id": "zVGeBEFhpsJ2"
      }
    },
    {
      "cell_type": "code",
      "source": [
        "plt.figure(figsize=(40,5))\n",
        "plt.plot((y_pred_lasso)**3)\n",
        "plt.plot((np.array(y_test)**3))\n",
        "plt.legend([\"Predicted\",\"Actual\"])\n",
        "plt.show()"
      ],
      "metadata": {
        "id": "eMRAAUYIm73x"
      },
      "execution_count": null,
      "outputs": []
    },
    {
      "cell_type": "code",
      "source": [
        "MSE  = mean_squared_error((y_test)**3, (y_pred_lasso)**3)\n",
        "print(\"MSE :\" , MSE)\n",
        "\n",
        "RMSE = np.sqrt(MSE)\n",
        "print(\"RMSE :\" ,RMSE)\n",
        "\n",
        "r2 = r2_score((y_test)**3, (y_pred_lasso)**3)\n",
        "print(\"R2 :\" ,r2)\n",
        "print(\"Adjusted R2 : \",1-(1-r2_score((y_test)**3, (y_pred_lasso)**3))*((X_test.shape[0]-1)/(X_test.shape[0]-X_test.shape[1]-1)))"
      ],
      "metadata": {
        "id": "49h_rDGQnUVQ"
      },
      "execution_count": null,
      "outputs": []
    },
    {
      "cell_type": "markdown",
      "source": [
        "#### 3. Explain each evaluation metric's indication towards business and the business impact pf the ML model used."
      ],
      "metadata": {
        "id": "bmKjuQ-FpsJ3"
      }
    },
    {
      "cell_type": "markdown",
      "source": [
        "No major impact on values."
      ],
      "metadata": {
        "id": "BDKtOrBQpsJ3"
      }
    },
    {
      "cell_type": "markdown",
      "source": [
        "### ML Model - 3"
      ],
      "metadata": {
        "id": "Fze-IPXLpx6K"
      }
    },
    {
      "cell_type": "code",
      "source": [
        "# ML Model - 3 Implementation\n",
        "# Fit the Algorithm\n",
        "from sklearn.linear_model import Ridge\n",
        "ridge = Ridge()\n",
        "parameters = {'alpha': [1e-15,1e-10,1e-8,1e-5,1e-4,1e-3,1e-2,1,5,10,20,30,40,45,50,55,60,100]}\n"
      ],
      "metadata": {
        "id": "FFrSXAtrpx6M"
      },
      "execution_count": null,
      "outputs": []
    },
    {
      "cell_type": "markdown",
      "source": [
        "#### 1. Explain the ML Model used and it's performance using Evaluation metric Score Chart."
      ],
      "metadata": {
        "id": "7AN1z2sKpx6M"
      }
    },
    {
      "cell_type": "markdown",
      "source": [
        "Ridge Regression adds a term in **ordinary least square error function** that regularizes the value of coefficients of variables to avoid overfitting.The motive of adding this term is to penalize the variable corresponding to that coefficient not very much correlated to the target variable. This term is called **L2 regularization**. "
      ],
      "metadata": {
        "id": "Im0MsAlE3aOx"
      }
    },
    {
      "cell_type": "markdown",
      "source": [
        "#### 2. Cross- Validation & Hyperparameter Tuning"
      ],
      "metadata": {
        "id": "9PIHJqyupx6M"
      }
    },
    {
      "cell_type": "code",
      "source": [
        "# ML Model - 3 Implementation with hyperparameter optimization techniques (i.e., GridSearch CV, RandomSearch CV, Bayesian Optimization etc.)\n",
        "\n",
        "ridge_regressor = GridSearchCV(ridge, parameters, scoring='neg_mean_squared_error', cv=3)\n",
        "ridge_regressor.fit(X_train,y_train)\n",
        "\n",
        "print(\"The best fit alpha value is found out to be :\" ,ridge_regressor.best_params_)\n",
        "print(\"\\nUsing \",ridge_regressor.best_params_, \" the negative mean squared error is: \", ridge_regressor.best_score_)"
      ],
      "metadata": {
        "id": "eSVXuaSKpx6M"
      },
      "execution_count": null,
      "outputs": []
    },
    {
      "cell_type": "code",
      "source": [
        "# Predict on the model\n",
        "y_pred_ridge = ridge_regressor.predict(X_test)"
      ],
      "metadata": {
        "id": "J2ROp6JZqtd9"
      },
      "execution_count": null,
      "outputs": []
    },
    {
      "cell_type": "code",
      "source": [
        "MSE  = mean_squared_error((y_test)**3, (y_pred_ridge)**3)\n",
        "print(\"MSE :\" , MSE)\n",
        "\n",
        "RMSE = np.sqrt(MSE)\n",
        "print(\"RMSE :\" ,RMSE)\n",
        "\n",
        "r2 = r2_score((y_test)**3, (y_pred_ridge)**3)\n",
        "print(\"R2 :\" ,r2)\n",
        "print(\"Adjusted R2 : \",1-(1-r2_score((y_test)**3, (y_pred_ridge)**3))*((X_test.shape[0]-1)/(X_test.shape[0]-X_test.shape[1]-1)))"
      ],
      "metadata": {
        "id": "NZYbKCnirENT"
      },
      "execution_count": null,
      "outputs": []
    },
    {
      "cell_type": "markdown",
      "source": [
        "##### Have you seen any improvement? Note down the improvement with updates Evaluation metric Score Chart."
      ],
      "metadata": {
        "id": "Z-hykwinpx6N"
      }
    },
    {
      "cell_type": "markdown",
      "source": [
        "Slight variation in r2 value."
      ],
      "metadata": {
        "id": "MzVzZC6opx6N"
      }
    },
    {
      "cell_type": "markdown",
      "source": [
        "# Model-4"
      ],
      "metadata": {
        "id": "qmPBCUaSr-lp"
      }
    },
    {
      "cell_type": "markdown",
      "source": [
        "Elastic net linear regression uses the penalties from both the lasso and ridge techniques to regularize regression models.\n",
        "\n",
        "The technique combines both the lasso and ridge regression methods by learning from their shortcomings to improve the regularization of statistical models.\n",
        "\n",
        "The elastic net method improves lasso’s limitations, i.e., where lasso takes a few samples for high dimensional data. The elastic net procedure provides the inclusion of “n” number of variables until saturation. If the variables are highly correlated groups, lasso tends to choose one variable from such groups and ignore the rest entirely.\n",
        "\n",
        "To eliminate the limitations found in lasso, the elastic net includes a quadratic expression (||β||2) in the penalty, which, when used in isolation, becomes ridge regression. The quadratic expression in the penalty elevates the loss function toward being convex."
      ],
      "metadata": {
        "id": "HstydrGV4Hrr"
      }
    },
    {
      "cell_type": "code",
      "source": [
        "from sklearn.linear_model import ElasticNet\n",
        "elasticnet = ElasticNet(alpha=0.1, l1_ratio=0.5)"
      ],
      "metadata": {
        "id": "z7wYAeVasBYz"
      },
      "execution_count": null,
      "outputs": []
    },
    {
      "cell_type": "code",
      "source": [
        "elasticnet.fit(X_train,y_train)"
      ],
      "metadata": {
        "id": "MJVCPFfksE1h"
      },
      "execution_count": null,
      "outputs": []
    },
    {
      "cell_type": "code",
      "source": [
        "elasticnet.fit(X_train,y_train)"
      ],
      "metadata": {
        "id": "WMpeQTKbsFXM"
      },
      "execution_count": null,
      "outputs": []
    },
    {
      "cell_type": "code",
      "source": [
        "y_pred_en = elasticnet.predict(X_test)"
      ],
      "metadata": {
        "id": "8tILnZHGsGC2"
      },
      "execution_count": null,
      "outputs": []
    },
    {
      "cell_type": "code",
      "source": [
        "MSE  = mean_squared_error((y_test)**3, (y_pred_en)**3)\n",
        "print(\"MSE :\" , MSE)\n",
        "\n",
        "RMSE = np.sqrt(MSE)\n",
        "print(\"RMSE :\" ,RMSE)\n",
        "\n",
        "r2 = r2_score((y_test)**3, (y_pred_en)**3)\n",
        "print(\"R2 :\" ,r2)\n",
        "print(\"Adjusted R2 : \",1-(1-r2_score((y_test)**3, (y_pred_en)**3))*((X_test.shape[0]-1)/(X_test.shape[0]-X_test.shape[1]-1)))"
      ],
      "metadata": {
        "id": "B5bPrn4DsUjj"
      },
      "execution_count": null,
      "outputs": []
    },
    {
      "cell_type": "markdown",
      "source": [
        "## Cross validation"
      ],
      "metadata": {
        "id": "T2hgPnAltSnr"
      }
    },
    {
      "cell_type": "code",
      "source": [
        "elastic = ElasticNet()\n",
        "parameters = {'alpha': [1e-15,1e-13,1e-10,1e-8,1e-5,1e-4,1e-3,1e-2,1e-1,1,5,10,20,30,40,45,50,55,60,100],'l1_ratio':[0.3,0.4,0.5,0.6,0.7,0.8]}\n",
        "elastic_regressor = GridSearchCV(elastic, parameters, scoring='neg_mean_squared_error',cv=5)\n",
        "elastic_regressor.fit(X_train, y_train)"
      ],
      "metadata": {
        "id": "MAPM3V8rtXdz"
      },
      "execution_count": null,
      "outputs": []
    },
    {
      "cell_type": "code",
      "source": [
        "print(\"The best fit alpha value is found out to be :\" ,elastic_regressor.best_params_)\n",
        "print(\"\\nUsing \",elastic_regressor.best_params_, \" the negative mean squared error is: \", elastic_regressor.best_score_)"
      ],
      "metadata": {
        "id": "-XxnXBS6tg8D"
      },
      "execution_count": null,
      "outputs": []
    },
    {
      "cell_type": "code",
      "source": [
        "y_pred_elastic = elastic_regressor.predict(X_test)"
      ],
      "metadata": {
        "id": "K6s7yf73tiOi"
      },
      "execution_count": null,
      "outputs": []
    },
    {
      "cell_type": "code",
      "source": [
        "MSE  = mean_squared_error((y_test)**3, (y_pred_elastic)**3)\n",
        "print(\"MSE :\" , MSE)\n",
        "\n",
        "RMSE = np.sqrt(MSE)\n",
        "print(\"RMSE :\" ,RMSE)\n",
        "\n",
        "r2 = r2_score((y_test)**3, (y_pred_elastic)**3)\n",
        "print(\"R2 :\" ,r2)\n",
        "print(\"Adjusted R2 : \",1-(1-r2_score((y_test)**3, (y_pred_elastic)**3))*((X_test.shape[0]-1)/(X_test.shape[0]-X_test.shape[1]-1)))"
      ],
      "metadata": {
        "id": "RS7k_jmJtiY-"
      },
      "execution_count": null,
      "outputs": []
    },
    {
      "cell_type": "code",
      "source": [
        "plt.figure(figsize=(40,5))\n",
        "plt.plot((y_pred_elastic)**3)\n",
        "plt.plot((np.array(y_test)**3))\n",
        "plt.legend([\"Predicted\",\"Actual\"])\n",
        "plt.show()"
      ],
      "metadata": {
        "id": "qnjqqnCIuFF7"
      },
      "execution_count": null,
      "outputs": []
    },
    {
      "cell_type": "markdown",
      "source": [
        "### 1. Which Evaluation metrics did you consider for a positive business impact and why?"
      ],
      "metadata": {
        "id": "h_CCil-SKHpo"
      }
    },
    {
      "cell_type": "markdown",
      "source": [
        "All regression done above has got almost same r2 values.So more advanced tuning and regression techniques is to be used to find the best model."
      ],
      "metadata": {
        "id": "jHVz9hHDKFms"
      }
    },
    {
      "cell_type": "markdown",
      "source": [
        "### 2. Which ML model did you choose from the above created models as your final prediction model and why?"
      ],
      "metadata": {
        "id": "cBFFvTBNJzUa"
      }
    },
    {
      "cell_type": "markdown",
      "source": [
        "\n",
        "From above regressions, a slight improvement in r2 value is shown in ridge regression.Although this will not be the best model as there are several regressions to be taught,according to the current knowledge i will select ridge regression model to predict this dataset."
      ],
      "metadata": {
        "id": "6ksF5Q1LKTVm"
      }
    },
    {
      "cell_type": "markdown",
      "source": [
        "### 3. Explain the model which you have used and the feature importance using any model explainability tool?"
      ],
      "metadata": {
        "id": "HvGl1hHyA_VK"
      }
    },
    {
      "cell_type": "markdown",
      "source": [
        "Feature Importance refers to techniques that calculate a score for all the input features for a given model — the scores simply represent the “importance” of each feature. A higher score means that the specific feature will have a larger effect on the model that is being used to predict a certain variable.\n",
        "\n",
        "Here we have selected the features which are not collinear with each other. The weightage of each featues can only be viewed using feature importance function in Random Forest which is not in the scope of this project."
      ],
      "metadata": {
        "id": "7iH7fwhjPG1i"
      }
    },
    {
      "cell_type": "markdown",
      "source": [
        "## ***8.*** ***Future Work (Optional)***"
      ],
      "metadata": {
        "id": "EyNgTHvd2WFk"
      }
    },
    {
      "cell_type": "markdown",
      "source": [
        "### 1. Save the best performing ml model in a pickle file or joblib file format for deployment process.\n"
      ],
      "metadata": {
        "id": "KH5McJBi2d8v"
      }
    },
    {
      "cell_type": "code",
      "source": [
        "# Save the File"
      ],
      "metadata": {
        "id": "bQIANRl32f4J"
      },
      "execution_count": null,
      "outputs": []
    },
    {
      "cell_type": "markdown",
      "source": [
        "### 2. Again Load the saved model file and try to predict unseen data for a sanity check.\n"
      ],
      "metadata": {
        "id": "iW_Lq9qf2h6X"
      }
    },
    {
      "cell_type": "code",
      "source": [
        "# Load the File and predict unseen data."
      ],
      "metadata": {
        "id": "oEXk9ydD2nVC"
      },
      "execution_count": null,
      "outputs": []
    },
    {
      "cell_type": "markdown",
      "source": [
        "### ***Congrats! Your model is successfully created and ready for deployment on a live server for a real user interaction !!!***"
      ],
      "metadata": {
        "id": "-Kee-DAl2viO"
      }
    },
    {
      "cell_type": "markdown",
      "source": [
        "# **Conclusion**"
      ],
      "metadata": {
        "id": "gCX9965dhzqZ"
      }
    },
    {
      "cell_type": "markdown",
      "source": [
        "The model built using the Ridge algorithm is the most accurate one.\n",
        "\n",
        "\n",
        "There is a trade-off between model accuracy and time consumed for model creation. So according to the desired requirement of the company model should be selected i.e if high accuracy is desired then advanced model algorithms should be selected else if one is dealing with a huge dataset and time is a constrain along with model interpretability is desired then these can be considered."
      ],
      "metadata": {
        "id": "Fjb1IsQkh3yE"
      }
    },
    {
      "cell_type": "markdown",
      "source": [
        "### ***Hurrah! You have successfully completed your Machine Learning Capstone Project !!!***"
      ],
      "metadata": {
        "id": "gIfDvo9L0UH2"
      }
    }
  ]
}